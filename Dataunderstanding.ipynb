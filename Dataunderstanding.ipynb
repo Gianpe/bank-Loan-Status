{
 "cells": [
  {
   "cell_type": "code",
   "execution_count": 21,
   "metadata": {
    "colab": {},
    "colab_type": "code",
    "id": "b0uyN2e-hyPE"
   },
   "outputs": [],
   "source": [
    "# %matplotlib inline\n",
    "import math\n",
    "import numpy as np\n",
    "import pandas as pd\n",
    "import scipy.stats as stats\n",
    "import matplotlib.pyplot as plt\n",
    "from sklearn import preprocessing\n",
    "le = preprocessing.LabelEncoder()\n",
    "\n",
    "from collections import defaultdict\n",
    "from scipy.stats.stats import pearsonr\n",
    "#LINK UTILE (https://www.analyticsvidhya.com/blog/2016/01/guide-data-exploration/)"
   ]
  },
  {
   "cell_type": "code",
   "execution_count": 22,
   "metadata": {
    "colab": {
     "base_uri": "https://localhost:8080/",
     "height": 947
    },
    "colab_type": "code",
    "id": "ZK3tSNsJh7VZ",
    "outputId": "b6e06569-ac60-4105-88b8-33afed1d47f9"
   },
   "outputs": [
    {
     "data": {
      "text/html": [
       "<div>\n",
       "<style scoped>\n",
       "    .dataframe tbody tr th:only-of-type {\n",
       "        vertical-align: middle;\n",
       "    }\n",
       "\n",
       "    .dataframe tbody tr th {\n",
       "        vertical-align: top;\n",
       "    }\n",
       "\n",
       "    .dataframe thead th {\n",
       "        text-align: right;\n",
       "    }\n",
       "</style>\n",
       "<table border=\"1\" class=\"dataframe\">\n",
       "  <thead>\n",
       "    <tr style=\"text-align: right;\">\n",
       "      <th></th>\n",
       "      <th>Loan ID</th>\n",
       "      <th>Customer ID</th>\n",
       "      <th>Loan Status</th>\n",
       "      <th>Current Loan Amount</th>\n",
       "      <th>Term</th>\n",
       "      <th>Credit Score</th>\n",
       "      <th>Annual Income</th>\n",
       "      <th>Years in current job</th>\n",
       "      <th>Home Ownership</th>\n",
       "      <th>Purpose</th>\n",
       "      <th>Monthly Debt</th>\n",
       "      <th>Years of Credit History</th>\n",
       "      <th>Months since last delinquent</th>\n",
       "      <th>Number of Open Accounts</th>\n",
       "      <th>Number of Credit Problems</th>\n",
       "      <th>Current Credit Balance</th>\n",
       "      <th>Maximum Open Credit</th>\n",
       "      <th>Bankruptcies</th>\n",
       "      <th>Tax Liens</th>\n",
       "    </tr>\n",
       "  </thead>\n",
       "  <tbody>\n",
       "    <tr>\n",
       "      <th>0</th>\n",
       "      <td>14dd8831-6af5-400b-83ec-68e61888a048</td>\n",
       "      <td>981165ec-3274-42f5-a3b4-d104041a9ca9</td>\n",
       "      <td>Fully Paid</td>\n",
       "      <td>445412.0</td>\n",
       "      <td>Short Term</td>\n",
       "      <td>709.0</td>\n",
       "      <td>1167493.0</td>\n",
       "      <td>8 years</td>\n",
       "      <td>Home Mortgage</td>\n",
       "      <td>Home Improvements</td>\n",
       "      <td>5214.74</td>\n",
       "      <td>17.2</td>\n",
       "      <td>NaN</td>\n",
       "      <td>6.0</td>\n",
       "      <td>1.0</td>\n",
       "      <td>228190.0</td>\n",
       "      <td>416746.0</td>\n",
       "      <td>1.0</td>\n",
       "      <td>0.0</td>\n",
       "    </tr>\n",
       "    <tr>\n",
       "      <th>1</th>\n",
       "      <td>4771cc26-131a-45db-b5aa-537ea4ba5342</td>\n",
       "      <td>2de017a3-2e01-49cb-a581-08169e83be29</td>\n",
       "      <td>Fully Paid</td>\n",
       "      <td>262328.0</td>\n",
       "      <td>Short Term</td>\n",
       "      <td>NaN</td>\n",
       "      <td>NaN</td>\n",
       "      <td>10+ years</td>\n",
       "      <td>Home Mortgage</td>\n",
       "      <td>Debt Consolidation</td>\n",
       "      <td>33295.98</td>\n",
       "      <td>21.1</td>\n",
       "      <td>8.0</td>\n",
       "      <td>35.0</td>\n",
       "      <td>0.0</td>\n",
       "      <td>229976.0</td>\n",
       "      <td>850784.0</td>\n",
       "      <td>0.0</td>\n",
       "      <td>0.0</td>\n",
       "    </tr>\n",
       "    <tr>\n",
       "      <th>2</th>\n",
       "      <td>4eed4e6a-aa2f-4c91-8651-ce984ee8fb26</td>\n",
       "      <td>5efb2b2b-bf11-4dfd-a572-3761a2694725</td>\n",
       "      <td>Fully Paid</td>\n",
       "      <td>99999999.0</td>\n",
       "      <td>Short Term</td>\n",
       "      <td>741.0</td>\n",
       "      <td>2231892.0</td>\n",
       "      <td>8 years</td>\n",
       "      <td>Own Home</td>\n",
       "      <td>Debt Consolidation</td>\n",
       "      <td>29200.53</td>\n",
       "      <td>14.9</td>\n",
       "      <td>29.0</td>\n",
       "      <td>18.0</td>\n",
       "      <td>1.0</td>\n",
       "      <td>297996.0</td>\n",
       "      <td>750090.0</td>\n",
       "      <td>0.0</td>\n",
       "      <td>0.0</td>\n",
       "    </tr>\n",
       "    <tr>\n",
       "      <th>3</th>\n",
       "      <td>77598f7b-32e7-4e3b-a6e5-06ba0d98fe8a</td>\n",
       "      <td>e777faab-98ae-45af-9a86-7ce5b33b1011</td>\n",
       "      <td>Fully Paid</td>\n",
       "      <td>347666.0</td>\n",
       "      <td>Long Term</td>\n",
       "      <td>721.0</td>\n",
       "      <td>806949.0</td>\n",
       "      <td>3 years</td>\n",
       "      <td>Own Home</td>\n",
       "      <td>Debt Consolidation</td>\n",
       "      <td>8741.90</td>\n",
       "      <td>12.0</td>\n",
       "      <td>NaN</td>\n",
       "      <td>9.0</td>\n",
       "      <td>0.0</td>\n",
       "      <td>256329.0</td>\n",
       "      <td>386958.0</td>\n",
       "      <td>0.0</td>\n",
       "      <td>0.0</td>\n",
       "    </tr>\n",
       "    <tr>\n",
       "      <th>4</th>\n",
       "      <td>d4062e70-befa-4995-8643-a0de73938182</td>\n",
       "      <td>81536ad9-5ccf-4eb8-befb-47a4d608658e</td>\n",
       "      <td>Fully Paid</td>\n",
       "      <td>176220.0</td>\n",
       "      <td>Short Term</td>\n",
       "      <td>NaN</td>\n",
       "      <td>NaN</td>\n",
       "      <td>5 years</td>\n",
       "      <td>Rent</td>\n",
       "      <td>Debt Consolidation</td>\n",
       "      <td>20639.70</td>\n",
       "      <td>6.1</td>\n",
       "      <td>NaN</td>\n",
       "      <td>15.0</td>\n",
       "      <td>0.0</td>\n",
       "      <td>253460.0</td>\n",
       "      <td>427174.0</td>\n",
       "      <td>0.0</td>\n",
       "      <td>0.0</td>\n",
       "    </tr>\n",
       "    <tr>\n",
       "      <th>5</th>\n",
       "      <td>89d8cb0c-e5c2-4f54-b056-48a645c543dd</td>\n",
       "      <td>4ffe99d3-7f2a-44db-afc1-40943f1f9750</td>\n",
       "      <td>Charged Off</td>\n",
       "      <td>206602.0</td>\n",
       "      <td>Short Term</td>\n",
       "      <td>7290.0</td>\n",
       "      <td>896857.0</td>\n",
       "      <td>10+ years</td>\n",
       "      <td>Home Mortgage</td>\n",
       "      <td>Debt Consolidation</td>\n",
       "      <td>16367.74</td>\n",
       "      <td>17.3</td>\n",
       "      <td>NaN</td>\n",
       "      <td>6.0</td>\n",
       "      <td>0.0</td>\n",
       "      <td>215308.0</td>\n",
       "      <td>272448.0</td>\n",
       "      <td>0.0</td>\n",
       "      <td>0.0</td>\n",
       "    </tr>\n",
       "    <tr>\n",
       "      <th>6</th>\n",
       "      <td>273581de-85d8-4332-81a5-19b04ce68666</td>\n",
       "      <td>90a75dde-34d5-419c-90dc-1e58b04b3e35</td>\n",
       "      <td>Fully Paid</td>\n",
       "      <td>217646.0</td>\n",
       "      <td>Short Term</td>\n",
       "      <td>730.0</td>\n",
       "      <td>1184194.0</td>\n",
       "      <td>&lt; 1 year</td>\n",
       "      <td>Home Mortgage</td>\n",
       "      <td>Debt Consolidation</td>\n",
       "      <td>10855.08</td>\n",
       "      <td>19.6</td>\n",
       "      <td>10.0</td>\n",
       "      <td>13.0</td>\n",
       "      <td>1.0</td>\n",
       "      <td>122170.0</td>\n",
       "      <td>272052.0</td>\n",
       "      <td>1.0</td>\n",
       "      <td>0.0</td>\n",
       "    </tr>\n",
       "    <tr>\n",
       "      <th>7</th>\n",
       "      <td>db0dc6e1-77ee-4826-acca-772f9039e1c7</td>\n",
       "      <td>018973c9-e316-4956-b363-67e134fb0931</td>\n",
       "      <td>Charged Off</td>\n",
       "      <td>648714.0</td>\n",
       "      <td>Long Term</td>\n",
       "      <td>NaN</td>\n",
       "      <td>NaN</td>\n",
       "      <td>&lt; 1 year</td>\n",
       "      <td>Home Mortgage</td>\n",
       "      <td>Buy House</td>\n",
       "      <td>14806.13</td>\n",
       "      <td>8.2</td>\n",
       "      <td>8.0</td>\n",
       "      <td>15.0</td>\n",
       "      <td>0.0</td>\n",
       "      <td>193306.0</td>\n",
       "      <td>864204.0</td>\n",
       "      <td>0.0</td>\n",
       "      <td>0.0</td>\n",
       "    </tr>\n",
       "    <tr>\n",
       "      <th>8</th>\n",
       "      <td>8af915d9-9e91-44a0-b5a2-564a45c12089</td>\n",
       "      <td>af534dea-d27e-4fd6-9de8-efaa52a78ec0</td>\n",
       "      <td>Fully Paid</td>\n",
       "      <td>548746.0</td>\n",
       "      <td>Short Term</td>\n",
       "      <td>678.0</td>\n",
       "      <td>2559110.0</td>\n",
       "      <td>2 years</td>\n",
       "      <td>Rent</td>\n",
       "      <td>Debt Consolidation</td>\n",
       "      <td>18660.28</td>\n",
       "      <td>22.6</td>\n",
       "      <td>33.0</td>\n",
       "      <td>4.0</td>\n",
       "      <td>0.0</td>\n",
       "      <td>437171.0</td>\n",
       "      <td>555038.0</td>\n",
       "      <td>0.0</td>\n",
       "      <td>0.0</td>\n",
       "    </tr>\n",
       "    <tr>\n",
       "      <th>9</th>\n",
       "      <td>0b1c4e3d-bd97-45ce-9622-22732fcdc9a0</td>\n",
       "      <td>235c4a43-dadf-483d-aa44-9d6d77ae4583</td>\n",
       "      <td>Fully Paid</td>\n",
       "      <td>215952.0</td>\n",
       "      <td>Short Term</td>\n",
       "      <td>739.0</td>\n",
       "      <td>1454735.0</td>\n",
       "      <td>&lt; 1 year</td>\n",
       "      <td>Rent</td>\n",
       "      <td>Debt Consolidation</td>\n",
       "      <td>39277.75</td>\n",
       "      <td>13.9</td>\n",
       "      <td>NaN</td>\n",
       "      <td>20.0</td>\n",
       "      <td>0.0</td>\n",
       "      <td>669560.0</td>\n",
       "      <td>1021460.0</td>\n",
       "      <td>0.0</td>\n",
       "      <td>0.0</td>\n",
       "    </tr>\n",
       "  </tbody>\n",
       "</table>\n",
       "</div>"
      ],
      "text/plain": [
       "                                Loan ID                           Customer ID  \\\n",
       "0  14dd8831-6af5-400b-83ec-68e61888a048  981165ec-3274-42f5-a3b4-d104041a9ca9   \n",
       "1  4771cc26-131a-45db-b5aa-537ea4ba5342  2de017a3-2e01-49cb-a581-08169e83be29   \n",
       "2  4eed4e6a-aa2f-4c91-8651-ce984ee8fb26  5efb2b2b-bf11-4dfd-a572-3761a2694725   \n",
       "3  77598f7b-32e7-4e3b-a6e5-06ba0d98fe8a  e777faab-98ae-45af-9a86-7ce5b33b1011   \n",
       "4  d4062e70-befa-4995-8643-a0de73938182  81536ad9-5ccf-4eb8-befb-47a4d608658e   \n",
       "5  89d8cb0c-e5c2-4f54-b056-48a645c543dd  4ffe99d3-7f2a-44db-afc1-40943f1f9750   \n",
       "6  273581de-85d8-4332-81a5-19b04ce68666  90a75dde-34d5-419c-90dc-1e58b04b3e35   \n",
       "7  db0dc6e1-77ee-4826-acca-772f9039e1c7  018973c9-e316-4956-b363-67e134fb0931   \n",
       "8  8af915d9-9e91-44a0-b5a2-564a45c12089  af534dea-d27e-4fd6-9de8-efaa52a78ec0   \n",
       "9  0b1c4e3d-bd97-45ce-9622-22732fcdc9a0  235c4a43-dadf-483d-aa44-9d6d77ae4583   \n",
       "\n",
       "   Loan Status  Current Loan Amount        Term  Credit Score  Annual Income  \\\n",
       "0   Fully Paid             445412.0  Short Term         709.0      1167493.0   \n",
       "1   Fully Paid             262328.0  Short Term           NaN            NaN   \n",
       "2   Fully Paid           99999999.0  Short Term         741.0      2231892.0   \n",
       "3   Fully Paid             347666.0   Long Term         721.0       806949.0   \n",
       "4   Fully Paid             176220.0  Short Term           NaN            NaN   \n",
       "5  Charged Off             206602.0  Short Term        7290.0       896857.0   \n",
       "6   Fully Paid             217646.0  Short Term         730.0      1184194.0   \n",
       "7  Charged Off             648714.0   Long Term           NaN            NaN   \n",
       "8   Fully Paid             548746.0  Short Term         678.0      2559110.0   \n",
       "9   Fully Paid             215952.0  Short Term         739.0      1454735.0   \n",
       "\n",
       "  Years in current job Home Ownership             Purpose  Monthly Debt  \\\n",
       "0              8 years  Home Mortgage   Home Improvements       5214.74   \n",
       "1            10+ years  Home Mortgage  Debt Consolidation      33295.98   \n",
       "2              8 years       Own Home  Debt Consolidation      29200.53   \n",
       "3              3 years       Own Home  Debt Consolidation       8741.90   \n",
       "4              5 years           Rent  Debt Consolidation      20639.70   \n",
       "5            10+ years  Home Mortgage  Debt Consolidation      16367.74   \n",
       "6             < 1 year  Home Mortgage  Debt Consolidation      10855.08   \n",
       "7             < 1 year  Home Mortgage           Buy House      14806.13   \n",
       "8              2 years           Rent  Debt Consolidation      18660.28   \n",
       "9             < 1 year           Rent  Debt Consolidation      39277.75   \n",
       "\n",
       "   Years of Credit History  Months since last delinquent  \\\n",
       "0                     17.2                           NaN   \n",
       "1                     21.1                           8.0   \n",
       "2                     14.9                          29.0   \n",
       "3                     12.0                           NaN   \n",
       "4                      6.1                           NaN   \n",
       "5                     17.3                           NaN   \n",
       "6                     19.6                          10.0   \n",
       "7                      8.2                           8.0   \n",
       "8                     22.6                          33.0   \n",
       "9                     13.9                           NaN   \n",
       "\n",
       "   Number of Open Accounts  Number of Credit Problems  Current Credit Balance  \\\n",
       "0                      6.0                        1.0                228190.0   \n",
       "1                     35.0                        0.0                229976.0   \n",
       "2                     18.0                        1.0                297996.0   \n",
       "3                      9.0                        0.0                256329.0   \n",
       "4                     15.0                        0.0                253460.0   \n",
       "5                      6.0                        0.0                215308.0   \n",
       "6                     13.0                        1.0                122170.0   \n",
       "7                     15.0                        0.0                193306.0   \n",
       "8                      4.0                        0.0                437171.0   \n",
       "9                     20.0                        0.0                669560.0   \n",
       "\n",
       "   Maximum Open Credit  Bankruptcies  Tax Liens  \n",
       "0             416746.0           1.0        0.0  \n",
       "1             850784.0           0.0        0.0  \n",
       "2             750090.0           0.0        0.0  \n",
       "3             386958.0           0.0        0.0  \n",
       "4             427174.0           0.0        0.0  \n",
       "5             272448.0           0.0        0.0  \n",
       "6             272052.0           1.0        0.0  \n",
       "7             864204.0           0.0        0.0  \n",
       "8             555038.0           0.0        0.0  \n",
       "9            1021460.0           0.0        0.0  "
      ]
     },
     "execution_count": 22,
     "metadata": {},
     "output_type": "execute_result"
    }
   ],
   "source": [
    "df=pd.read_csv(\"credit.csv\")\n",
    "df.head(10)  #ogni volta che manca credit score manca anche annual income, ma i dati sono correlati negativamente\n",
    "\n",
    "#forse possiamo trovare una relazione con il pattern mining\n",
    "#transformation refers to the replacement of a variable by a function. \n",
    "#For instance, replacing a variable x by the square / cube root or logarithm x is a transformation. \n",
    "#QUindi si deve normalizzare\"\"\""
   ]
  },
  {
   "cell_type": "markdown",
   "metadata": {
    "colab_type": "text",
    "id": "HZ6Ev39fEobs"
   },
   "source": [
    "# ***Data semantics and assessing data quality***"
   ]
  },
  {
   "cell_type": "code",
   "execution_count": 4,
   "metadata": {
    "colab": {
     "base_uri": "https://localhost:8080/",
     "height": 433
    },
    "colab_type": "code",
    "id": "PLWIyTvXh78v",
    "outputId": "74fc21c3-512c-4e84-fc06-27558684793d"
   },
   "outputs": [
    {
     "name": "stdout",
     "output_type": "stream",
     "text": [
      "<class 'pandas.core.frame.DataFrame'>\n",
      "RangeIndex: 100514 entries, 0 to 100513\n",
      "Data columns (total 19 columns):\n",
      " #   Column                        Non-Null Count   Dtype  \n",
      "---  ------                        --------------   -----  \n",
      " 0   Loan ID                       100000 non-null  object \n",
      " 1   Customer ID                   100000 non-null  object \n",
      " 2   Loan Status                   100000 non-null  object \n",
      " 3   Current Loan Amount           100000 non-null  float64\n",
      " 4   Term                          100000 non-null  object \n",
      " 5   Credit Score                  80846 non-null   float64\n",
      " 6   Annual Income                 80846 non-null   float64\n",
      " 7   Years in current job          95778 non-null   object \n",
      " 8   Home Ownership                100000 non-null  object \n",
      " 9   Purpose                       100000 non-null  object \n",
      " 10  Monthly Debt                  100000 non-null  float64\n",
      " 11  Years of Credit History       100000 non-null  float64\n",
      " 12  Months since last delinquent  46859 non-null   float64\n",
      " 13  Number of Open Accounts       100000 non-null  float64\n",
      " 14  Number of Credit Problems     100000 non-null  float64\n",
      " 15  Current Credit Balance        100000 non-null  float64\n",
      " 16  Maximum Open Credit           99998 non-null   float64\n",
      " 17  Bankruptcies                  99796 non-null   float64\n",
      " 18  Tax Liens                     99990 non-null   float64\n",
      "dtypes: float64(12), object(7)\n",
      "memory usage: 14.6+ MB\n"
     ]
    }
   ],
   "source": [
    "df.info()"
   ]
  },
  {
   "cell_type": "code",
   "execution_count": 5,
   "metadata": {
    "colab": {
     "base_uri": "https://localhost:8080/",
     "height": 349
    },
    "colab_type": "code",
    "id": "sQ3ZrgHnoCp0",
    "outputId": "d3bce915-dd7b-4892-9eb6-8ea349f0080a"
   },
   "outputs": [
    {
     "data": {
      "text/html": [
       "<div>\n",
       "<style scoped>\n",
       "    .dataframe tbody tr th:only-of-type {\n",
       "        vertical-align: middle;\n",
       "    }\n",
       "\n",
       "    .dataframe tbody tr th {\n",
       "        vertical-align: top;\n",
       "    }\n",
       "\n",
       "    .dataframe thead th {\n",
       "        text-align: right;\n",
       "    }\n",
       "</style>\n",
       "<table border=\"1\" class=\"dataframe\">\n",
       "  <thead>\n",
       "    <tr style=\"text-align: right;\">\n",
       "      <th></th>\n",
       "      <th>Loan ID</th>\n",
       "      <th>Customer ID</th>\n",
       "      <th>Loan Status</th>\n",
       "      <th>Current Loan Amount</th>\n",
       "      <th>Term</th>\n",
       "      <th>Credit Score</th>\n",
       "      <th>Annual Income</th>\n",
       "      <th>Years in current job</th>\n",
       "      <th>Home Ownership</th>\n",
       "      <th>Purpose</th>\n",
       "      <th>Monthly Debt</th>\n",
       "      <th>Years of Credit History</th>\n",
       "      <th>Months since last delinquent</th>\n",
       "      <th>Number of Open Accounts</th>\n",
       "      <th>Number of Credit Problems</th>\n",
       "      <th>Current Credit Balance</th>\n",
       "      <th>Maximum Open Credit</th>\n",
       "      <th>Bankruptcies</th>\n",
       "      <th>Tax Liens</th>\n",
       "    </tr>\n",
       "  </thead>\n",
       "  <tbody>\n",
       "    <tr>\n",
       "      <th>0</th>\n",
       "      <td>14dd8831-6af5-400b-83ec-68e61888a048</td>\n",
       "      <td>981165ec-3274-42f5-a3b4-d104041a9ca9</td>\n",
       "      <td>Fully Paid</td>\n",
       "      <td>445412.0</td>\n",
       "      <td>Short Term</td>\n",
       "      <td>709.0</td>\n",
       "      <td>1167493.0</td>\n",
       "      <td>8 years</td>\n",
       "      <td>Home Mortgage</td>\n",
       "      <td>Home Improvements</td>\n",
       "      <td>5214.74</td>\n",
       "      <td>17.2</td>\n",
       "      <td>NaN</td>\n",
       "      <td>6.0</td>\n",
       "      <td>1.0</td>\n",
       "      <td>228190.0</td>\n",
       "      <td>416746.0</td>\n",
       "      <td>1.0</td>\n",
       "      <td>0.0</td>\n",
       "    </tr>\n",
       "  </tbody>\n",
       "</table>\n",
       "</div>"
      ],
      "text/plain": [
       "                                Loan ID                           Customer ID  \\\n",
       "0  14dd8831-6af5-400b-83ec-68e61888a048  981165ec-3274-42f5-a3b4-d104041a9ca9   \n",
       "\n",
       "  Loan Status  Current Loan Amount        Term  Credit Score  Annual Income  \\\n",
       "0  Fully Paid             445412.0  Short Term         709.0      1167493.0   \n",
       "\n",
       "  Years in current job Home Ownership            Purpose  Monthly Debt  \\\n",
       "0              8 years  Home Mortgage  Home Improvements       5214.74   \n",
       "\n",
       "   Years of Credit History  Months since last delinquent  \\\n",
       "0                     17.2                           NaN   \n",
       "\n",
       "   Number of Open Accounts  Number of Credit Problems  Current Credit Balance  \\\n",
       "0                      6.0                        1.0                228190.0   \n",
       "\n",
       "   Maximum Open Credit  Bankruptcies  Tax Liens  \n",
       "0             416746.0           1.0        0.0  "
      ]
     },
     "execution_count": 5,
     "metadata": {},
     "output_type": "execute_result"
    }
   ],
   "source": [
    "df.head(1)"
   ]
  },
  {
   "cell_type": "code",
   "execution_count": 15,
   "metadata": {},
   "outputs": [
    {
     "data": {
      "text/html": [
       "<div>\n",
       "<style scoped>\n",
       "    .dataframe tbody tr th:only-of-type {\n",
       "        vertical-align: middle;\n",
       "    }\n",
       "\n",
       "    .dataframe tbody tr th {\n",
       "        vertical-align: top;\n",
       "    }\n",
       "\n",
       "    .dataframe thead th {\n",
       "        text-align: right;\n",
       "    }\n",
       "</style>\n",
       "<table border=\"1\" class=\"dataframe\">\n",
       "  <thead>\n",
       "    <tr style=\"text-align: right;\">\n",
       "      <th></th>\n",
       "      <th>Current Loan Amount</th>\n",
       "      <th>Annual Income</th>\n",
       "      <th>Monthly Debt</th>\n",
       "      <th>Years of Credit History</th>\n",
       "      <th>Current Credit Balance</th>\n",
       "      <th>Maximum Open Credit</th>\n",
       "    </tr>\n",
       "  </thead>\n",
       "  <tbody>\n",
       "    <tr>\n",
       "      <th>0</th>\n",
       "      <td>445412.0</td>\n",
       "      <td>1167493.0</td>\n",
       "      <td>5214.74</td>\n",
       "      <td>17.2</td>\n",
       "      <td>228190.0</td>\n",
       "      <td>416746.0</td>\n",
       "    </tr>\n",
       "    <tr>\n",
       "      <th>1</th>\n",
       "      <td>262328.0</td>\n",
       "      <td>NaN</td>\n",
       "      <td>33295.98</td>\n",
       "      <td>21.1</td>\n",
       "      <td>229976.0</td>\n",
       "      <td>850784.0</td>\n",
       "    </tr>\n",
       "    <tr>\n",
       "      <th>2</th>\n",
       "      <td>99999999.0</td>\n",
       "      <td>2231892.0</td>\n",
       "      <td>29200.53</td>\n",
       "      <td>14.9</td>\n",
       "      <td>297996.0</td>\n",
       "      <td>750090.0</td>\n",
       "    </tr>\n",
       "    <tr>\n",
       "      <th>3</th>\n",
       "      <td>347666.0</td>\n",
       "      <td>806949.0</td>\n",
       "      <td>8741.90</td>\n",
       "      <td>12.0</td>\n",
       "      <td>256329.0</td>\n",
       "      <td>386958.0</td>\n",
       "    </tr>\n",
       "    <tr>\n",
       "      <th>4</th>\n",
       "      <td>176220.0</td>\n",
       "      <td>NaN</td>\n",
       "      <td>20639.70</td>\n",
       "      <td>6.1</td>\n",
       "      <td>253460.0</td>\n",
       "      <td>427174.0</td>\n",
       "    </tr>\n",
       "  </tbody>\n",
       "</table>\n",
       "</div>"
      ],
      "text/plain": [
       "   Current Loan Amount  Annual Income  Monthly Debt  Years of Credit History  \\\n",
       "0             445412.0      1167493.0       5214.74                     17.2   \n",
       "1             262328.0            NaN      33295.98                     21.1   \n",
       "2           99999999.0      2231892.0      29200.53                     14.9   \n",
       "3             347666.0       806949.0       8741.90                     12.0   \n",
       "4             176220.0            NaN      20639.70                      6.1   \n",
       "\n",
       "   Current Credit Balance  Maximum Open Credit  \n",
       "0                228190.0             416746.0  \n",
       "1                229976.0             850784.0  \n",
       "2                297996.0             750090.0  \n",
       "3                256329.0             386958.0  \n",
       "4                253460.0             427174.0  "
      ]
     },
     "execution_count": 15,
     "metadata": {},
     "output_type": "execute_result"
    }
   ],
   "source": [
    "df_continui= df.copy()\n",
    "df_continui.drop(df_continui.columns[[0,1,2,4,5,7,8,9,12,13,14,17,18]], axis=\"columns\",  inplace=True) \n",
    "df_continui.head()"
   ]
  },
  {
   "cell_type": "code",
   "execution_count": 16,
   "metadata": {},
   "outputs": [
    {
     "data": {
      "text/html": [
       "<div>\n",
       "<style scoped>\n",
       "    .dataframe tbody tr th:only-of-type {\n",
       "        vertical-align: middle;\n",
       "    }\n",
       "\n",
       "    .dataframe tbody tr th {\n",
       "        vertical-align: top;\n",
       "    }\n",
       "\n",
       "    .dataframe thead th {\n",
       "        text-align: right;\n",
       "    }\n",
       "</style>\n",
       "<table border=\"1\" class=\"dataframe\">\n",
       "  <thead>\n",
       "    <tr style=\"text-align: right;\">\n",
       "      <th></th>\n",
       "      <th>Current Loan Amount</th>\n",
       "      <th>Annual Income</th>\n",
       "      <th>Monthly Debt</th>\n",
       "      <th>Years of Credit History</th>\n",
       "      <th>Current Credit Balance</th>\n",
       "      <th>Maximum Open Credit</th>\n",
       "    </tr>\n",
       "  </thead>\n",
       "  <tbody>\n",
       "    <tr>\n",
       "      <th>count</th>\n",
       "      <td>1.000000e+05</td>\n",
       "      <td>8.084600e+04</td>\n",
       "      <td>100000.000000</td>\n",
       "      <td>100000.000000</td>\n",
       "      <td>1.000000e+05</td>\n",
       "      <td>9.999800e+04</td>\n",
       "    </tr>\n",
       "    <tr>\n",
       "      <th>mean</th>\n",
       "      <td>1.176045e+07</td>\n",
       "      <td>1.378277e+06</td>\n",
       "      <td>18472.412336</td>\n",
       "      <td>18.199141</td>\n",
       "      <td>2.946374e+05</td>\n",
       "      <td>7.607984e+05</td>\n",
       "    </tr>\n",
       "    <tr>\n",
       "      <th>std</th>\n",
       "      <td>3.178394e+07</td>\n",
       "      <td>1.081360e+06</td>\n",
       "      <td>12174.992609</td>\n",
       "      <td>7.015324</td>\n",
       "      <td>3.761709e+05</td>\n",
       "      <td>8.384503e+06</td>\n",
       "    </tr>\n",
       "    <tr>\n",
       "      <th>min</th>\n",
       "      <td>1.080200e+04</td>\n",
       "      <td>7.662700e+04</td>\n",
       "      <td>0.000000</td>\n",
       "      <td>3.600000</td>\n",
       "      <td>0.000000e+00</td>\n",
       "      <td>0.000000e+00</td>\n",
       "    </tr>\n",
       "    <tr>\n",
       "      <th>25%</th>\n",
       "      <td>1.796520e+05</td>\n",
       "      <td>8.488440e+05</td>\n",
       "      <td>10214.162500</td>\n",
       "      <td>13.500000</td>\n",
       "      <td>1.126700e+05</td>\n",
       "      <td>2.734380e+05</td>\n",
       "    </tr>\n",
       "    <tr>\n",
       "      <th>50%</th>\n",
       "      <td>3.122460e+05</td>\n",
       "      <td>1.174162e+06</td>\n",
       "      <td>16220.300000</td>\n",
       "      <td>16.900000</td>\n",
       "      <td>2.098170e+05</td>\n",
       "      <td>4.678740e+05</td>\n",
       "    </tr>\n",
       "    <tr>\n",
       "      <th>75%</th>\n",
       "      <td>5.249420e+05</td>\n",
       "      <td>1.650663e+06</td>\n",
       "      <td>24012.057500</td>\n",
       "      <td>21.700000</td>\n",
       "      <td>3.679588e+05</td>\n",
       "      <td>7.829580e+05</td>\n",
       "    </tr>\n",
       "    <tr>\n",
       "      <th>max</th>\n",
       "      <td>1.000000e+08</td>\n",
       "      <td>1.655574e+08</td>\n",
       "      <td>435843.280000</td>\n",
       "      <td>70.500000</td>\n",
       "      <td>3.287897e+07</td>\n",
       "      <td>1.539738e+09</td>\n",
       "    </tr>\n",
       "  </tbody>\n",
       "</table>\n",
       "</div>"
      ],
      "text/plain": [
       "       Current Loan Amount  Annual Income   Monthly Debt  \\\n",
       "count         1.000000e+05   8.084600e+04  100000.000000   \n",
       "mean          1.176045e+07   1.378277e+06   18472.412336   \n",
       "std           3.178394e+07   1.081360e+06   12174.992609   \n",
       "min           1.080200e+04   7.662700e+04       0.000000   \n",
       "25%           1.796520e+05   8.488440e+05   10214.162500   \n",
       "50%           3.122460e+05   1.174162e+06   16220.300000   \n",
       "75%           5.249420e+05   1.650663e+06   24012.057500   \n",
       "max           1.000000e+08   1.655574e+08  435843.280000   \n",
       "\n",
       "       Years of Credit History  Current Credit Balance  Maximum Open Credit  \n",
       "count            100000.000000            1.000000e+05         9.999800e+04  \n",
       "mean                 18.199141            2.946374e+05         7.607984e+05  \n",
       "std                   7.015324            3.761709e+05         8.384503e+06  \n",
       "min                   3.600000            0.000000e+00         0.000000e+00  \n",
       "25%                  13.500000            1.126700e+05         2.734380e+05  \n",
       "50%                  16.900000            2.098170e+05         4.678740e+05  \n",
       "75%                  21.700000            3.679588e+05         7.829580e+05  \n",
       "max                  70.500000            3.287897e+07         1.539738e+09  "
      ]
     },
     "execution_count": 16,
     "metadata": {},
     "output_type": "execute_result"
    }
   ],
   "source": [
    "df_continui.describe()"
   ]
  },
  {
   "cell_type": "code",
   "execution_count": 13,
   "metadata": {},
   "outputs": [
    {
     "data": {
      "text/html": [
       "<div>\n",
       "<style scoped>\n",
       "    .dataframe tbody tr th:only-of-type {\n",
       "        vertical-align: middle;\n",
       "    }\n",
       "\n",
       "    .dataframe tbody tr th {\n",
       "        vertical-align: top;\n",
       "    }\n",
       "\n",
       "    .dataframe thead th {\n",
       "        text-align: right;\n",
       "    }\n",
       "</style>\n",
       "<table border=\"1\" class=\"dataframe\">\n",
       "  <thead>\n",
       "    <tr style=\"text-align: right;\">\n",
       "      <th></th>\n",
       "      <th>Loan ID</th>\n",
       "      <th>Customer ID</th>\n",
       "      <th>Loan Status</th>\n",
       "      <th>Current Loan Amount</th>\n",
       "      <th>Term</th>\n",
       "      <th>Credit Score</th>\n",
       "      <th>Annual Income</th>\n",
       "      <th>Years in current job</th>\n",
       "      <th>Home Ownership</th>\n",
       "      <th>Purpose</th>\n",
       "      <th>Monthly Debt</th>\n",
       "      <th>Years of Credit History</th>\n",
       "      <th>Months since last delinquent</th>\n",
       "      <th>Number of Open Accounts</th>\n",
       "      <th>Number of Credit Problems</th>\n",
       "      <th>Current Credit Balance</th>\n",
       "      <th>Maximum Open Credit</th>\n",
       "      <th>Bankruptcies</th>\n",
       "      <th>Tax Liens</th>\n",
       "    </tr>\n",
       "  </thead>\n",
       "  <tbody>\n",
       "    <tr>\n",
       "      <th>0</th>\n",
       "      <td>14dd8831-6af5-400b-83ec-68e61888a048</td>\n",
       "      <td>981165ec-3274-42f5-a3b4-d104041a9ca9</td>\n",
       "      <td>Fully Paid</td>\n",
       "      <td>445412.0</td>\n",
       "      <td>Short Term</td>\n",
       "      <td>709.0</td>\n",
       "      <td>1167493.0</td>\n",
       "      <td>8 years</td>\n",
       "      <td>Home Mortgage</td>\n",
       "      <td>Home Improvements</td>\n",
       "      <td>5214.74</td>\n",
       "      <td>17.2</td>\n",
       "      <td>NaN</td>\n",
       "      <td>6.0</td>\n",
       "      <td>1.0</td>\n",
       "      <td>228190.0</td>\n",
       "      <td>416746.0</td>\n",
       "      <td>1.0</td>\n",
       "      <td>0.0</td>\n",
       "    </tr>\n",
       "  </tbody>\n",
       "</table>\n",
       "</div>"
      ],
      "text/plain": [
       "                                Loan ID                           Customer ID  \\\n",
       "0  14dd8831-6af5-400b-83ec-68e61888a048  981165ec-3274-42f5-a3b4-d104041a9ca9   \n",
       "\n",
       "  Loan Status  Current Loan Amount        Term  Credit Score  Annual Income  \\\n",
       "0  Fully Paid             445412.0  Short Term         709.0      1167493.0   \n",
       "\n",
       "  Years in current job Home Ownership            Purpose  Monthly Debt  \\\n",
       "0              8 years  Home Mortgage  Home Improvements       5214.74   \n",
       "\n",
       "   Years of Credit History  Months since last delinquent  \\\n",
       "0                     17.2                           NaN   \n",
       "\n",
       "   Number of Open Accounts  Number of Credit Problems  Current Credit Balance  \\\n",
       "0                      6.0                        1.0                228190.0   \n",
       "\n",
       "   Maximum Open Credit  Bankruptcies  Tax Liens  \n",
       "0             416746.0           1.0        0.0  "
      ]
     },
     "execution_count": 13,
     "metadata": {},
     "output_type": "execute_result"
    }
   ],
   "source": [
    "df.head(1)"
   ]
  },
  {
   "cell_type": "code",
   "execution_count": 24,
   "metadata": {},
   "outputs": [
    {
     "data": {
      "text/html": [
       "<div>\n",
       "<style scoped>\n",
       "    .dataframe tbody tr th:only-of-type {\n",
       "        vertical-align: middle;\n",
       "    }\n",
       "\n",
       "    .dataframe tbody tr th {\n",
       "        vertical-align: top;\n",
       "    }\n",
       "\n",
       "    .dataframe thead th {\n",
       "        text-align: right;\n",
       "    }\n",
       "</style>\n",
       "<table border=\"1\" class=\"dataframe\">\n",
       "  <thead>\n",
       "    <tr style=\"text-align: right;\">\n",
       "      <th></th>\n",
       "      <th>Credit Score</th>\n",
       "      <th>Months since last delinquent</th>\n",
       "      <th>Number of Open Accounts</th>\n",
       "      <th>Number of Credit Problems</th>\n",
       "      <th>Bankruptcies</th>\n",
       "      <th>Tax Liens</th>\n",
       "    </tr>\n",
       "  </thead>\n",
       "  <tbody>\n",
       "    <tr>\n",
       "      <th>count</th>\n",
       "      <td>80846.000000</td>\n",
       "      <td>46859.000000</td>\n",
       "      <td>100000.00000</td>\n",
       "      <td>100000.000000</td>\n",
       "      <td>99796.000000</td>\n",
       "      <td>99990.000000</td>\n",
       "    </tr>\n",
       "    <tr>\n",
       "      <th>mean</th>\n",
       "      <td>1076.456089</td>\n",
       "      <td>34.901321</td>\n",
       "      <td>11.12853</td>\n",
       "      <td>0.168310</td>\n",
       "      <td>0.117740</td>\n",
       "      <td>0.029313</td>\n",
       "    </tr>\n",
       "    <tr>\n",
       "      <th>std</th>\n",
       "      <td>1475.403791</td>\n",
       "      <td>21.997829</td>\n",
       "      <td>5.00987</td>\n",
       "      <td>0.482705</td>\n",
       "      <td>0.351424</td>\n",
       "      <td>0.258182</td>\n",
       "    </tr>\n",
       "    <tr>\n",
       "      <th>min</th>\n",
       "      <td>585.000000</td>\n",
       "      <td>0.000000</td>\n",
       "      <td>0.00000</td>\n",
       "      <td>0.000000</td>\n",
       "      <td>0.000000</td>\n",
       "      <td>0.000000</td>\n",
       "    </tr>\n",
       "    <tr>\n",
       "      <th>25%</th>\n",
       "      <td>705.000000</td>\n",
       "      <td>16.000000</td>\n",
       "      <td>8.00000</td>\n",
       "      <td>0.000000</td>\n",
       "      <td>0.000000</td>\n",
       "      <td>0.000000</td>\n",
       "    </tr>\n",
       "    <tr>\n",
       "      <th>50%</th>\n",
       "      <td>724.000000</td>\n",
       "      <td>32.000000</td>\n",
       "      <td>10.00000</td>\n",
       "      <td>0.000000</td>\n",
       "      <td>0.000000</td>\n",
       "      <td>0.000000</td>\n",
       "    </tr>\n",
       "    <tr>\n",
       "      <th>75%</th>\n",
       "      <td>741.000000</td>\n",
       "      <td>51.000000</td>\n",
       "      <td>14.00000</td>\n",
       "      <td>0.000000</td>\n",
       "      <td>0.000000</td>\n",
       "      <td>0.000000</td>\n",
       "    </tr>\n",
       "    <tr>\n",
       "      <th>max</th>\n",
       "      <td>7510.000000</td>\n",
       "      <td>176.000000</td>\n",
       "      <td>76.00000</td>\n",
       "      <td>15.000000</td>\n",
       "      <td>7.000000</td>\n",
       "      <td>15.000000</td>\n",
       "    </tr>\n",
       "  </tbody>\n",
       "</table>\n",
       "</div>"
      ],
      "text/plain": [
       "       Credit Score  Months since last delinquent  Number of Open Accounts  \\\n",
       "count  80846.000000                  46859.000000             100000.00000   \n",
       "mean    1076.456089                     34.901321                 11.12853   \n",
       "std     1475.403791                     21.997829                  5.00987   \n",
       "min      585.000000                      0.000000                  0.00000   \n",
       "25%      705.000000                     16.000000                  8.00000   \n",
       "50%      724.000000                     32.000000                 10.00000   \n",
       "75%      741.000000                     51.000000                 14.00000   \n",
       "max     7510.000000                    176.000000                 76.00000   \n",
       "\n",
       "       Number of Credit Problems  Bankruptcies     Tax Liens  \n",
       "count              100000.000000  99796.000000  99990.000000  \n",
       "mean                    0.168310      0.117740      0.029313  \n",
       "std                     0.482705      0.351424      0.258182  \n",
       "min                     0.000000      0.000000      0.000000  \n",
       "25%                     0.000000      0.000000      0.000000  \n",
       "50%                     0.000000      0.000000      0.000000  \n",
       "75%                     0.000000      0.000000      0.000000  \n",
       "max                    15.000000      7.000000     15.000000  "
      ]
     },
     "execution_count": 24,
     "metadata": {},
     "output_type": "execute_result"
    }
   ],
   "source": [
    "df_int= df.copy()\n",
    "df_int.drop(df.columns[[0,1,2,3,4,6,7,8,9,10,11,15,16]], axis=\"columns\",  inplace=True) \n",
    "df_int.describe()"
   ]
  },
  {
   "cell_type": "code",
   "execution_count": 18,
   "metadata": {},
   "outputs": [
    {
     "data": {
      "text/plain": [
       "array([ nan,   8.,  29.,  10.,  33.,  76.,  25.,  46.,  34.,  53.,  30.,\n",
       "        32.,  21.,  50.,  20.,  24.,  15.,   6.,  13.,  48.,  69.,  42.,\n",
       "        35.,   7.,  27.,   5.,  26.,  17.,  72.,  65.,   4.,  11.,  54.,\n",
       "        31.,  19.,  41.,  73.,  60.,  77.,  18.,   9.,  80.,  70.,  38.,\n",
       "        47.,  82.,  74.,   0.,  16.,  75.,  61.,  79.,  62.,  56.,  64.,\n",
       "        36.,  39.,  59.,  55.,  37.,  58.,  68.,  22.,  45.,  14.,  51.,\n",
       "        49.,   1.,  81.,  63.,  71.,  43.,  40.,  12.,  52.,   3.,  66.,\n",
       "        23.,  57.,  78.,  44.,   2.,  28.,  88.,  67.,  85.,  89., 118.,\n",
       "        83., 152., 120.,  92.,  86.,  94., 110.,  93.,  97.,  84., 130.,\n",
       "       129., 106.,  90., 107., 176., 108.,  87., 139., 143., 114.,  91.,\n",
       "       104., 115., 100., 148., 141.,  96., 131.])"
      ]
     },
     "execution_count": 18,
     "metadata": {},
     "output_type": "execute_result"
    }
   ],
   "source": [
    "df['Months since last delinquent'].unique()"
   ]
  },
  {
   "cell_type": "code",
   "execution_count": null,
   "metadata": {},
   "outputs": [],
   "source": []
  },
  {
   "cell_type": "code",
   "execution_count": 6,
   "metadata": {
    "colab": {
     "base_uri": "https://localhost:8080/",
     "height": 364
    },
    "colab_type": "code",
    "id": "2u_fG3f6oFHg",
    "outputId": "3f814a5a-b392-450c-ef79-aaa22237efe4"
   },
   "outputs": [
    {
     "data": {
      "text/plain": [
       "Loan ID                         True\n",
       "Customer ID                     True\n",
       "Loan Status                     True\n",
       "Current Loan Amount             True\n",
       "Term                            True\n",
       "Credit Score                    True\n",
       "Annual Income                   True\n",
       "Years in current job            True\n",
       "Home Ownership                  True\n",
       "Purpose                         True\n",
       "Monthly Debt                    True\n",
       "Years of Credit History         True\n",
       "Months since last delinquent    True\n",
       "Number of Open Accounts         True\n",
       "Number of Credit Problems       True\n",
       "Current Credit Balance          True\n",
       "Maximum Open Credit             True\n",
       "Bankruptcies                    True\n",
       "Tax Liens                       True\n",
       "dtype: bool"
      ]
     },
     "execution_count": 6,
     "metadata": {},
     "output_type": "execute_result"
    }
   ],
   "source": [
    "df.isnull().any()"
   ]
  },
  {
   "cell_type": "code",
   "execution_count": 7,
   "metadata": {
    "colab": {
     "base_uri": "https://localhost:8080/",
     "height": 364
    },
    "colab_type": "code",
    "id": "arCB1mqaoIOm",
    "outputId": "4fe05c1d-471d-49ef-b368-a8db13b8132f"
   },
   "outputs": [
    {
     "data": {
      "text/plain": [
       "Loan ID                           514\n",
       "Customer ID                       514\n",
       "Loan Status                       514\n",
       "Current Loan Amount               514\n",
       "Term                              514\n",
       "Credit Score                    19668\n",
       "Annual Income                   19668\n",
       "Years in current job             4736\n",
       "Home Ownership                    514\n",
       "Purpose                           514\n",
       "Monthly Debt                      514\n",
       "Years of Credit History           514\n",
       "Months since last delinquent    53655\n",
       "Number of Open Accounts           514\n",
       "Number of Credit Problems         514\n",
       "Current Credit Balance            514\n",
       "Maximum Open Credit               516\n",
       "Bankruptcies                      718\n",
       "Tax Liens                         524\n",
       "dtype: int64"
      ]
     },
     "execution_count": 7,
     "metadata": {},
     "output_type": "execute_result"
    }
   ],
   "source": [
    "df.isnull().sum()"
   ]
  },
  {
   "cell_type": "code",
   "execution_count": 8,
   "metadata": {
    "colab": {
     "base_uri": "https://localhost:8080/",
     "height": 35
    },
    "colab_type": "code",
    "id": "tqxIJgl-oLKJ",
    "outputId": "b5b2b8d1-86b1-4bac-ae41-f97fd2962f50"
   },
   "outputs": [
    {
     "data": {
      "text/plain": [
       "(100514, 19)"
      ]
     },
     "execution_count": 8,
     "metadata": {},
     "output_type": "execute_result"
    }
   ],
   "source": [
    "df.shape"
   ]
  },
  {
   "cell_type": "code",
   "execution_count": 9,
   "metadata": {
    "colab": {
     "base_uri": "https://localhost:8080/",
     "height": 35
    },
    "colab_type": "code",
    "id": "EnlfB4ruoNgr",
    "outputId": "25f10da7-71c2-4f8a-96f4-1b5dea0f0bd9"
   },
   "outputs": [
    {
     "data": {
      "text/plain": [
       "array([ 0.,  1.,  2.,  4.,  3.,  6.,  5., nan, 11., 15.,  9.,  7., 10.])"
      ]
     },
     "execution_count": 9,
     "metadata": {},
     "output_type": "execute_result"
    }
   ],
   "source": [
    "#df[\"Loan Status\"].unique()\n",
    "#df[\"Term\"].unique()\n",
    "#df[\"Number of Credit Problems\"].unique()\n",
    "#df[\"Home Ownership\"].unique()\n",
    "#df[\"Annual Income\"].unique()\n",
    "#df[\"Number of Credit Problems\"].unique() #questi valori risultano float ma sono interi come tutti gli altri interi\n",
    "#df[\"Bankruptcies\"].unique()\n",
    "df[\"Tax Liens\"].unique()\n",
    "#df[\"Years in current job\"].unique()\n",
    "#df[\"Months since last delinquent\"].unique()\n",
    "#df[\"Number of Open Accounts\"].unique()"
   ]
  },
  {
   "cell_type": "code",
   "execution_count": 10,
   "metadata": {
    "colab": {
     "base_uri": "https://localhost:8080/",
     "height": 104
    },
    "colab_type": "code",
    "id": "8XR-EuBfoeIu",
    "outputId": "18e4a535-6c1f-4606-e748-cabd37198700"
   },
   "outputs": [
    {
     "data": {
      "text/plain": [
       "array(['Home Improvements', 'Debt Consolidation', 'Buy House', 'Other',\n",
       "       'Business Loan', 'Buy a Car', 'major_purchase', 'Take a Trip',\n",
       "       'small_business', 'Medical Bills', 'wedding', 'vacation',\n",
       "       'Educational Expenses', 'moving', 'renewable_energy', nan],\n",
       "      dtype=object)"
      ]
     },
     "execution_count": 10,
     "metadata": {},
     "output_type": "execute_result"
    }
   ],
   "source": [
    "df[\"Purpose\"].unique() #apparte due volte il termine other, si deve sostituire\n",
    "purpose=df[\"Purpose\"].replace(\"other\", \"Other\")  #sostituito\n",
    "purpose.unique()\n",
    "df[\"Purpose\"]=purpose\n",
    "df[\"Purpose\"].unique()"
   ]
  },
  {
   "cell_type": "code",
   "execution_count": 11,
   "metadata": {
    "colab": {
     "base_uri": "https://localhost:8080/",
     "height": 35
    },
    "colab_type": "code",
    "id": "hvZP__6sGybD",
    "outputId": "d16f4d71-bdef-4905-d687-4adbf8bb74df"
   },
   "outputs": [
    {
     "data": {
      "text/plain": [
       "array(['Home Mortgage', 'Own Home', 'Rent', nan], dtype=object)"
      ]
     },
     "execution_count": 11,
     "metadata": {},
     "output_type": "execute_result"
    }
   ],
   "source": [
    "Ownership= df[\"Home Ownership\"].replace (\"HaveMortgage\", \"Home Mortgage\")\n",
    "Ownership.unique()\n",
    "df[\"Home Ownership\"]= Ownership\n",
    "df[\"Home Ownership\"].unique() #appare due volte Mortgage, quindi è stato sostituito cHave mortgage con home mortgage"
   ]
  },
  {
   "cell_type": "code",
   "execution_count": 12,
   "metadata": {
    "colab": {
     "base_uri": "https://localhost:8080/",
     "height": 947
    },
    "colab_type": "code",
    "id": "e8S-nEhBNx34",
    "outputId": "568dd2c9-8106-4111-c1f4-6f172905d8a1"
   },
   "outputs": [
    {
     "data": {
      "text/html": [
       "<div>\n",
       "<style scoped>\n",
       "    .dataframe tbody tr th:only-of-type {\n",
       "        vertical-align: middle;\n",
       "    }\n",
       "\n",
       "    .dataframe tbody tr th {\n",
       "        vertical-align: top;\n",
       "    }\n",
       "\n",
       "    .dataframe thead th {\n",
       "        text-align: right;\n",
       "    }\n",
       "</style>\n",
       "<table border=\"1\" class=\"dataframe\">\n",
       "  <thead>\n",
       "    <tr style=\"text-align: right;\">\n",
       "      <th></th>\n",
       "      <th>Loan ID</th>\n",
       "      <th>Customer ID</th>\n",
       "      <th>Loan Status</th>\n",
       "      <th>Current Loan Amount</th>\n",
       "      <th>Term</th>\n",
       "      <th>Credit Score</th>\n",
       "      <th>Annual Income</th>\n",
       "      <th>Years in current job</th>\n",
       "      <th>Home Ownership</th>\n",
       "      <th>Purpose</th>\n",
       "      <th>Monthly Debt</th>\n",
       "      <th>Years of Credit History</th>\n",
       "      <th>Months since last delinquent</th>\n",
       "      <th>Number of Open Accounts</th>\n",
       "      <th>Number of Credit Problems</th>\n",
       "      <th>Current Credit Balance</th>\n",
       "      <th>Maximum Open Credit</th>\n",
       "      <th>Bankruptcies</th>\n",
       "      <th>Tax Liens</th>\n",
       "    </tr>\n",
       "  </thead>\n",
       "  <tbody>\n",
       "    <tr>\n",
       "      <th>1985</th>\n",
       "      <td>da795dc7-9960-49d9-9ef4-94a28a51f168</td>\n",
       "      <td>cc4bd6b1-d485-4bad-ad6b-f856fa20f2d1</td>\n",
       "      <td>Fully Paid</td>\n",
       "      <td>388168.0</td>\n",
       "      <td>Short Term</td>\n",
       "      <td>693.0</td>\n",
       "      <td>1042929.0</td>\n",
       "      <td>2 years</td>\n",
       "      <td>Own Home</td>\n",
       "      <td>Business Loan</td>\n",
       "      <td>0.0</td>\n",
       "      <td>19.8</td>\n",
       "      <td>NaN</td>\n",
       "      <td>2.0</td>\n",
       "      <td>0.0</td>\n",
       "      <td>0.0</td>\n",
       "      <td>0.0</td>\n",
       "      <td>0.0</td>\n",
       "      <td>0.0</td>\n",
       "    </tr>\n",
       "    <tr>\n",
       "      <th>3498</th>\n",
       "      <td>a3a73c37-e371-42bf-ade8-84f7c7adbc63</td>\n",
       "      <td>71e9e730-7945-4908-9b47-f071b299b580</td>\n",
       "      <td>Fully Paid</td>\n",
       "      <td>327954.0</td>\n",
       "      <td>Short Term</td>\n",
       "      <td>739.0</td>\n",
       "      <td>548340.0</td>\n",
       "      <td>2 years</td>\n",
       "      <td>Rent</td>\n",
       "      <td>Home Improvements</td>\n",
       "      <td>0.0</td>\n",
       "      <td>10.6</td>\n",
       "      <td>NaN</td>\n",
       "      <td>4.0</td>\n",
       "      <td>0.0</td>\n",
       "      <td>0.0</td>\n",
       "      <td>0.0</td>\n",
       "      <td>0.0</td>\n",
       "      <td>0.0</td>\n",
       "    </tr>\n",
       "    <tr>\n",
       "      <th>3917</th>\n",
       "      <td>594bcdde-72d2-42ef-b457-aae4f45155d3</td>\n",
       "      <td>168376bb-6315-4d60-92e3-746751f63e50</td>\n",
       "      <td>Fully Paid</td>\n",
       "      <td>99999999.0</td>\n",
       "      <td>Short Term</td>\n",
       "      <td>748.0</td>\n",
       "      <td>1254513.0</td>\n",
       "      <td>10+ years</td>\n",
       "      <td>Rent</td>\n",
       "      <td>Take a Trip</td>\n",
       "      <td>0.0</td>\n",
       "      <td>23.4</td>\n",
       "      <td>60.0</td>\n",
       "      <td>6.0</td>\n",
       "      <td>0.0</td>\n",
       "      <td>0.0</td>\n",
       "      <td>0.0</td>\n",
       "      <td>0.0</td>\n",
       "      <td>0.0</td>\n",
       "    </tr>\n",
       "    <tr>\n",
       "      <th>5501</th>\n",
       "      <td>ed3e844d-9f10-4a15-9152-24320a0c8480</td>\n",
       "      <td>22d32059-acdf-4075-82ba-d6c7fdac4e65</td>\n",
       "      <td>Charged Off</td>\n",
       "      <td>106854.0</td>\n",
       "      <td>Short Term</td>\n",
       "      <td>738.0</td>\n",
       "      <td>288401.0</td>\n",
       "      <td>1 year</td>\n",
       "      <td>Rent</td>\n",
       "      <td>Debt Consolidation</td>\n",
       "      <td>0.0</td>\n",
       "      <td>11.0</td>\n",
       "      <td>NaN</td>\n",
       "      <td>2.0</td>\n",
       "      <td>0.0</td>\n",
       "      <td>0.0</td>\n",
       "      <td>0.0</td>\n",
       "      <td>0.0</td>\n",
       "      <td>0.0</td>\n",
       "    </tr>\n",
       "    <tr>\n",
       "      <th>7573</th>\n",
       "      <td>ec2aabb1-fd0d-4770-b638-72509c189dc8</td>\n",
       "      <td>c21ae1b5-6b7c-4453-bb41-90c3617fb60a</td>\n",
       "      <td>Fully Paid</td>\n",
       "      <td>171226.0</td>\n",
       "      <td>Short Term</td>\n",
       "      <td>689.0</td>\n",
       "      <td>1824494.0</td>\n",
       "      <td>6 years</td>\n",
       "      <td>Home Mortgage</td>\n",
       "      <td>Home Improvements</td>\n",
       "      <td>0.0</td>\n",
       "      <td>10.5</td>\n",
       "      <td>NaN</td>\n",
       "      <td>3.0</td>\n",
       "      <td>1.0</td>\n",
       "      <td>0.0</td>\n",
       "      <td>0.0</td>\n",
       "      <td>1.0</td>\n",
       "      <td>0.0</td>\n",
       "    </tr>\n",
       "    <tr>\n",
       "      <th>7724</th>\n",
       "      <td>34cce5c5-1f67-4926-a864-74210dee48b6</td>\n",
       "      <td>ff2166e3-3bbf-4acf-8208-483a5410821f</td>\n",
       "      <td>Fully Paid</td>\n",
       "      <td>229834.0</td>\n",
       "      <td>Short Term</td>\n",
       "      <td>745.0</td>\n",
       "      <td>1654083.0</td>\n",
       "      <td>1 year</td>\n",
       "      <td>Rent</td>\n",
       "      <td>Buy House</td>\n",
       "      <td>0.0</td>\n",
       "      <td>17.5</td>\n",
       "      <td>NaN</td>\n",
       "      <td>5.0</td>\n",
       "      <td>0.0</td>\n",
       "      <td>125970.0</td>\n",
       "      <td>1257344.0</td>\n",
       "      <td>0.0</td>\n",
       "      <td>0.0</td>\n",
       "    </tr>\n",
       "    <tr>\n",
       "      <th>8050</th>\n",
       "      <td>6eb14cde-2de6-48df-a6dc-72527642d105</td>\n",
       "      <td>260c52a3-46b8-4cdc-89e7-352960557344</td>\n",
       "      <td>Fully Paid</td>\n",
       "      <td>49478.0</td>\n",
       "      <td>Short Term</td>\n",
       "      <td>714.0</td>\n",
       "      <td>364819.0</td>\n",
       "      <td>&lt; 1 year</td>\n",
       "      <td>Rent</td>\n",
       "      <td>Take a Trip</td>\n",
       "      <td>0.0</td>\n",
       "      <td>29.6</td>\n",
       "      <td>62.0</td>\n",
       "      <td>8.0</td>\n",
       "      <td>0.0</td>\n",
       "      <td>0.0</td>\n",
       "      <td>0.0</td>\n",
       "      <td>0.0</td>\n",
       "      <td>0.0</td>\n",
       "    </tr>\n",
       "    <tr>\n",
       "      <th>9708</th>\n",
       "      <td>6c9ed2b3-f215-47ba-8837-b14bbdc7bb10</td>\n",
       "      <td>f9f03a68-2459-4fdf-af10-1392b03473c4</td>\n",
       "      <td>Fully Paid</td>\n",
       "      <td>108966.0</td>\n",
       "      <td>Short Term</td>\n",
       "      <td>747.0</td>\n",
       "      <td>225853.0</td>\n",
       "      <td>NaN</td>\n",
       "      <td>Rent</td>\n",
       "      <td>Buy a Car</td>\n",
       "      <td>0.0</td>\n",
       "      <td>14.0</td>\n",
       "      <td>NaN</td>\n",
       "      <td>3.0</td>\n",
       "      <td>0.0</td>\n",
       "      <td>0.0</td>\n",
       "      <td>0.0</td>\n",
       "      <td>0.0</td>\n",
       "      <td>0.0</td>\n",
       "    </tr>\n",
       "    <tr>\n",
       "      <th>9890</th>\n",
       "      <td>bbc51c4c-0df3-41af-aef6-12f21fd9487f</td>\n",
       "      <td>8b16997a-afbe-491a-8b7d-cd47df6cfb14</td>\n",
       "      <td>Fully Paid</td>\n",
       "      <td>343684.0</td>\n",
       "      <td>Long Term</td>\n",
       "      <td>740.0</td>\n",
       "      <td>1157613.0</td>\n",
       "      <td>6 years</td>\n",
       "      <td>Home Mortgage</td>\n",
       "      <td>Home Improvements</td>\n",
       "      <td>0.0</td>\n",
       "      <td>20.5</td>\n",
       "      <td>NaN</td>\n",
       "      <td>4.0</td>\n",
       "      <td>0.0</td>\n",
       "      <td>0.0</td>\n",
       "      <td>0.0</td>\n",
       "      <td>0.0</td>\n",
       "      <td>0.0</td>\n",
       "    </tr>\n",
       "    <tr>\n",
       "      <th>10740</th>\n",
       "      <td>d5305fe8-6658-4dd5-9327-caa3238c354a</td>\n",
       "      <td>261a582c-18d4-455c-af2e-8f84b059364a</td>\n",
       "      <td>Fully Paid</td>\n",
       "      <td>75350.0</td>\n",
       "      <td>Short Term</td>\n",
       "      <td>704.0</td>\n",
       "      <td>867749.0</td>\n",
       "      <td>10+ years</td>\n",
       "      <td>Home Mortgage</td>\n",
       "      <td>Home Improvements</td>\n",
       "      <td>0.0</td>\n",
       "      <td>16.5</td>\n",
       "      <td>66.0</td>\n",
       "      <td>2.0</td>\n",
       "      <td>0.0</td>\n",
       "      <td>0.0</td>\n",
       "      <td>0.0</td>\n",
       "      <td>0.0</td>\n",
       "      <td>0.0</td>\n",
       "    </tr>\n",
       "  </tbody>\n",
       "</table>\n",
       "</div>"
      ],
      "text/plain": [
       "                                    Loan ID  \\\n",
       "1985   da795dc7-9960-49d9-9ef4-94a28a51f168   \n",
       "3498   a3a73c37-e371-42bf-ade8-84f7c7adbc63   \n",
       "3917   594bcdde-72d2-42ef-b457-aae4f45155d3   \n",
       "5501   ed3e844d-9f10-4a15-9152-24320a0c8480   \n",
       "7573   ec2aabb1-fd0d-4770-b638-72509c189dc8   \n",
       "7724   34cce5c5-1f67-4926-a864-74210dee48b6   \n",
       "8050   6eb14cde-2de6-48df-a6dc-72527642d105   \n",
       "9708   6c9ed2b3-f215-47ba-8837-b14bbdc7bb10   \n",
       "9890   bbc51c4c-0df3-41af-aef6-12f21fd9487f   \n",
       "10740  d5305fe8-6658-4dd5-9327-caa3238c354a   \n",
       "\n",
       "                                Customer ID  Loan Status  Current Loan Amount  \\\n",
       "1985   cc4bd6b1-d485-4bad-ad6b-f856fa20f2d1   Fully Paid             388168.0   \n",
       "3498   71e9e730-7945-4908-9b47-f071b299b580   Fully Paid             327954.0   \n",
       "3917   168376bb-6315-4d60-92e3-746751f63e50   Fully Paid           99999999.0   \n",
       "5501   22d32059-acdf-4075-82ba-d6c7fdac4e65  Charged Off             106854.0   \n",
       "7573   c21ae1b5-6b7c-4453-bb41-90c3617fb60a   Fully Paid             171226.0   \n",
       "7724   ff2166e3-3bbf-4acf-8208-483a5410821f   Fully Paid             229834.0   \n",
       "8050   260c52a3-46b8-4cdc-89e7-352960557344   Fully Paid              49478.0   \n",
       "9708   f9f03a68-2459-4fdf-af10-1392b03473c4   Fully Paid             108966.0   \n",
       "9890   8b16997a-afbe-491a-8b7d-cd47df6cfb14   Fully Paid             343684.0   \n",
       "10740  261a582c-18d4-455c-af2e-8f84b059364a   Fully Paid              75350.0   \n",
       "\n",
       "             Term  Credit Score  Annual Income Years in current job  \\\n",
       "1985   Short Term         693.0      1042929.0              2 years   \n",
       "3498   Short Term         739.0       548340.0              2 years   \n",
       "3917   Short Term         748.0      1254513.0            10+ years   \n",
       "5501   Short Term         738.0       288401.0               1 year   \n",
       "7573   Short Term         689.0      1824494.0              6 years   \n",
       "7724   Short Term         745.0      1654083.0               1 year   \n",
       "8050   Short Term         714.0       364819.0             < 1 year   \n",
       "9708   Short Term         747.0       225853.0                  NaN   \n",
       "9890    Long Term         740.0      1157613.0              6 years   \n",
       "10740  Short Term         704.0       867749.0            10+ years   \n",
       "\n",
       "      Home Ownership             Purpose  Monthly Debt  \\\n",
       "1985        Own Home       Business Loan           0.0   \n",
       "3498            Rent   Home Improvements           0.0   \n",
       "3917            Rent         Take a Trip           0.0   \n",
       "5501            Rent  Debt Consolidation           0.0   \n",
       "7573   Home Mortgage   Home Improvements           0.0   \n",
       "7724            Rent           Buy House           0.0   \n",
       "8050            Rent         Take a Trip           0.0   \n",
       "9708            Rent           Buy a Car           0.0   \n",
       "9890   Home Mortgage   Home Improvements           0.0   \n",
       "10740  Home Mortgage   Home Improvements           0.0   \n",
       "\n",
       "       Years of Credit History  Months since last delinquent  \\\n",
       "1985                      19.8                           NaN   \n",
       "3498                      10.6                           NaN   \n",
       "3917                      23.4                          60.0   \n",
       "5501                      11.0                           NaN   \n",
       "7573                      10.5                           NaN   \n",
       "7724                      17.5                           NaN   \n",
       "8050                      29.6                          62.0   \n",
       "9708                      14.0                           NaN   \n",
       "9890                      20.5                           NaN   \n",
       "10740                     16.5                          66.0   \n",
       "\n",
       "       Number of Open Accounts  Number of Credit Problems  \\\n",
       "1985                       2.0                        0.0   \n",
       "3498                       4.0                        0.0   \n",
       "3917                       6.0                        0.0   \n",
       "5501                       2.0                        0.0   \n",
       "7573                       3.0                        1.0   \n",
       "7724                       5.0                        0.0   \n",
       "8050                       8.0                        0.0   \n",
       "9708                       3.0                        0.0   \n",
       "9890                       4.0                        0.0   \n",
       "10740                      2.0                        0.0   \n",
       "\n",
       "       Current Credit Balance  Maximum Open Credit  Bankruptcies  Tax Liens  \n",
       "1985                      0.0                  0.0           0.0        0.0  \n",
       "3498                      0.0                  0.0           0.0        0.0  \n",
       "3917                      0.0                  0.0           0.0        0.0  \n",
       "5501                      0.0                  0.0           0.0        0.0  \n",
       "7573                      0.0                  0.0           1.0        0.0  \n",
       "7724                 125970.0            1257344.0           0.0        0.0  \n",
       "8050                      0.0                  0.0           0.0        0.0  \n",
       "9708                      0.0                  0.0           0.0        0.0  \n",
       "9890                      0.0                  0.0           0.0        0.0  \n",
       "10740                     0.0                  0.0           0.0        0.0  "
      ]
     },
     "execution_count": 12,
     "metadata": {},
     "output_type": "execute_result"
    }
   ],
   "source": [
    "df[df[\"Monthly Debt\"]==0].head(10)"
   ]
  },
  {
   "cell_type": "code",
   "execution_count": 20,
   "metadata": {
    "colab": {
     "base_uri": "https://localhost:8080/",
     "height": 141
    },
    "colab_type": "code",
    "id": "CvTRqf7juBWB",
    "outputId": "87892935-f9c5-4453-a23b-8633e54d56e8"
   },
   "outputs": [
    {
     "data": {
      "text/html": [
       "<div>\n",
       "<style scoped>\n",
       "    .dataframe tbody tr th:only-of-type {\n",
       "        vertical-align: middle;\n",
       "    }\n",
       "\n",
       "    .dataframe tbody tr th {\n",
       "        vertical-align: top;\n",
       "    }\n",
       "\n",
       "    .dataframe thead th {\n",
       "        text-align: right;\n",
       "    }\n",
       "</style>\n",
       "<table border=\"1\" class=\"dataframe\">\n",
       "  <thead>\n",
       "    <tr style=\"text-align: right;\">\n",
       "      <th>Loan Status</th>\n",
       "      <th>Charged Off</th>\n",
       "      <th>Fully Paid</th>\n",
       "    </tr>\n",
       "    <tr>\n",
       "      <th>Monthly Debt</th>\n",
       "      <th></th>\n",
       "      <th></th>\n",
       "    </tr>\n",
       "  </thead>\n",
       "  <tbody>\n",
       "    <tr>\n",
       "      <th>False</th>\n",
       "      <td>22622</td>\n",
       "      <td>77304</td>\n",
       "    </tr>\n",
       "    <tr>\n",
       "      <th>True</th>\n",
       "      <td>17</td>\n",
       "      <td>57</td>\n",
       "    </tr>\n",
       "  </tbody>\n",
       "</table>\n",
       "</div>"
      ],
      "text/plain": [
       "Loan Status   Charged Off  Fully Paid\n",
       "Monthly Debt                         \n",
       "False               22622       77304\n",
       "True                   17          57"
      ]
     },
     "execution_count": 20,
     "metadata": {},
     "output_type": "execute_result"
    }
   ],
   "source": [
    "pclass_xt = pd.crosstab(df_srm['Monthly Debt']==0, df_srm['Loan Status']) #non ci sono casi in cui Current Loan AMount è 0.\n",
    "pclass_xt                                                                  #ci sono solo 57 casi in cui Monthly debt=0 e Loan status=FUlly paid."
   ]
  },
  {
   "cell_type": "code",
   "execution_count": 21,
   "metadata": {
    "colab": {
     "base_uri": "https://localhost:8080/",
     "height": 110
    },
    "colab_type": "code",
    "id": "usNCY96dvNL5",
    "outputId": "2190934b-0165-4b4e-c19e-395fa9226062"
   },
   "outputs": [
    {
     "data": {
      "text/html": [
       "<div>\n",
       "<style scoped>\n",
       "    .dataframe tbody tr th:only-of-type {\n",
       "        vertical-align: middle;\n",
       "    }\n",
       "\n",
       "    .dataframe tbody tr th {\n",
       "        vertical-align: top;\n",
       "    }\n",
       "\n",
       "    .dataframe thead th {\n",
       "        text-align: right;\n",
       "    }\n",
       "</style>\n",
       "<table border=\"1\" class=\"dataframe\">\n",
       "  <thead>\n",
       "    <tr style=\"text-align: right;\">\n",
       "      <th>Loan Status</th>\n",
       "      <th>Charged Off</th>\n",
       "      <th>Fully Paid</th>\n",
       "    </tr>\n",
       "    <tr>\n",
       "      <th>Current Loan Amount</th>\n",
       "      <th></th>\n",
       "      <th></th>\n",
       "    </tr>\n",
       "  </thead>\n",
       "  <tbody>\n",
       "    <tr>\n",
       "      <th>False</th>\n",
       "      <td>22639</td>\n",
       "      <td>77361</td>\n",
       "    </tr>\n",
       "  </tbody>\n",
       "</table>\n",
       "</div>"
      ],
      "text/plain": [
       "Loan Status          Charged Off  Fully Paid\n",
       "Current Loan Amount                         \n",
       "False                      22639       77361"
      ]
     },
     "execution_count": 21,
     "metadata": {},
     "output_type": "execute_result"
    }
   ],
   "source": [
    "pclass_xt = pd.crosstab(df_srm['Current Loan Amount']==0, df_srm['Loan Status']) #non ci sono casi in cui Current Loan AMount è 0.\n",
    "pclass_xt "
   ]
  },
  {
   "cell_type": "markdown",
   "metadata": {
    "colab_type": "text",
    "id": "mZpFOGVsCbgl"
   },
   "source": [
    "# ***Correlazioni***"
   ]
  },
  {
   "cell_type": "code",
   "execution_count": 33,
   "metadata": {
    "colab": {
     "base_uri": "https://localhost:8080/",
     "height": 714
    },
    "colab_type": "code",
    "id": "cEwkfL69pKST",
    "outputId": "7c29634d-757f-491f-e369-26783000760c"
   },
   "outputs": [
    {
     "data": {
      "text/html": [
       "<div>\n",
       "<style scoped>\n",
       "    .dataframe tbody tr th:only-of-type {\n",
       "        vertical-align: middle;\n",
       "    }\n",
       "\n",
       "    .dataframe tbody tr th {\n",
       "        vertical-align: top;\n",
       "    }\n",
       "\n",
       "    .dataframe thead th {\n",
       "        text-align: right;\n",
       "    }\n",
       "</style>\n",
       "<table border=\"1\" class=\"dataframe\">\n",
       "  <thead>\n",
       "    <tr style=\"text-align: right;\">\n",
       "      <th></th>\n",
       "      <th>Current Loan Amount</th>\n",
       "      <th>Credit Score</th>\n",
       "      <th>Annual Income</th>\n",
       "      <th>Monthly Debt</th>\n",
       "      <th>Years of Credit History</th>\n",
       "      <th>Months since last delinquent</th>\n",
       "      <th>Number of Open Accounts</th>\n",
       "      <th>Number of Credit Problems</th>\n",
       "      <th>Current Credit Balance</th>\n",
       "      <th>Maximum Open Credit</th>\n",
       "      <th>Bankruptcies</th>\n",
       "      <th>Tax Liens</th>\n",
       "    </tr>\n",
       "  </thead>\n",
       "  <tbody>\n",
       "    <tr>\n",
       "      <td>Current Loan Amount</td>\n",
       "      <td>1.000000</td>\n",
       "      <td>-0.096652</td>\n",
       "      <td>0.013112</td>\n",
       "      <td>-0.006643</td>\n",
       "      <td>0.019282</td>\n",
       "      <td>0.011248</td>\n",
       "      <td>0.001478</td>\n",
       "      <td>-0.002795</td>\n",
       "      <td>0.003880</td>\n",
       "      <td>-0.001271</td>\n",
       "      <td>-0.000608</td>\n",
       "      <td>-0.002048</td>\n",
       "    </tr>\n",
       "    <tr>\n",
       "      <td>Credit Score</td>\n",
       "      <td>-0.096652</td>\n",
       "      <td>1.000000</td>\n",
       "      <td>-0.017078</td>\n",
       "      <td>-0.001674</td>\n",
       "      <td>-0.009720</td>\n",
       "      <td>-0.003739</td>\n",
       "      <td>0.006435</td>\n",
       "      <td>-0.003022</td>\n",
       "      <td>-0.000104</td>\n",
       "      <td>-0.002827</td>\n",
       "      <td>-0.006935</td>\n",
       "      <td>0.005146</td>\n",
       "    </tr>\n",
       "    <tr>\n",
       "      <td>Annual Income</td>\n",
       "      <td>0.013112</td>\n",
       "      <td>-0.017078</td>\n",
       "      <td>1.000000</td>\n",
       "      <td>0.485230</td>\n",
       "      <td>0.161669</td>\n",
       "      <td>-0.077577</td>\n",
       "      <td>0.146175</td>\n",
       "      <td>-0.017006</td>\n",
       "      <td>0.312340</td>\n",
       "      <td>0.053064</td>\n",
       "      <td>-0.047672</td>\n",
       "      <td>0.040167</td>\n",
       "    </tr>\n",
       "    <tr>\n",
       "      <td>Monthly Debt</td>\n",
       "      <td>-0.006643</td>\n",
       "      <td>-0.001674</td>\n",
       "      <td>0.485230</td>\n",
       "      <td>1.000000</td>\n",
       "      <td>0.199289</td>\n",
       "      <td>-0.056818</td>\n",
       "      <td>0.411353</td>\n",
       "      <td>-0.055383</td>\n",
       "      <td>0.481348</td>\n",
       "      <td>0.039268</td>\n",
       "      <td>-0.078979</td>\n",
       "      <td>0.020119</td>\n",
       "    </tr>\n",
       "    <tr>\n",
       "      <td>Years of Credit History</td>\n",
       "      <td>0.019282</td>\n",
       "      <td>-0.009720</td>\n",
       "      <td>0.161669</td>\n",
       "      <td>0.199289</td>\n",
       "      <td>1.000000</td>\n",
       "      <td>-0.044292</td>\n",
       "      <td>0.132349</td>\n",
       "      <td>0.061588</td>\n",
       "      <td>0.208470</td>\n",
       "      <td>0.031124</td>\n",
       "      <td>0.066247</td>\n",
       "      <td>0.017245</td>\n",
       "    </tr>\n",
       "    <tr>\n",
       "      <td>Months since last delinquent</td>\n",
       "      <td>0.011248</td>\n",
       "      <td>-0.003739</td>\n",
       "      <td>-0.077577</td>\n",
       "      <td>-0.056818</td>\n",
       "      <td>-0.044292</td>\n",
       "      <td>1.000000</td>\n",
       "      <td>-0.032569</td>\n",
       "      <td>0.104642</td>\n",
       "      <td>-0.028662</td>\n",
       "      <td>-0.008785</td>\n",
       "      <td>0.123951</td>\n",
       "      <td>0.012624</td>\n",
       "    </tr>\n",
       "    <tr>\n",
       "      <td>Number of Open Accounts</td>\n",
       "      <td>0.001478</td>\n",
       "      <td>0.006435</td>\n",
       "      <td>0.146175</td>\n",
       "      <td>0.411353</td>\n",
       "      <td>0.132349</td>\n",
       "      <td>-0.032569</td>\n",
       "      <td>1.000000</td>\n",
       "      <td>-0.013995</td>\n",
       "      <td>0.228136</td>\n",
       "      <td>0.031341</td>\n",
       "      <td>-0.024575</td>\n",
       "      <td>0.006545</td>\n",
       "    </tr>\n",
       "    <tr>\n",
       "      <td>Number of Credit Problems</td>\n",
       "      <td>-0.002795</td>\n",
       "      <td>-0.003022</td>\n",
       "      <td>-0.017006</td>\n",
       "      <td>-0.055383</td>\n",
       "      <td>0.061588</td>\n",
       "      <td>0.104642</td>\n",
       "      <td>-0.013995</td>\n",
       "      <td>1.000000</td>\n",
       "      <td>-0.112516</td>\n",
       "      <td>-0.012072</td>\n",
       "      <td>0.752942</td>\n",
       "      <td>0.581290</td>\n",
       "    </tr>\n",
       "    <tr>\n",
       "      <td>Current Credit Balance</td>\n",
       "      <td>0.003880</td>\n",
       "      <td>-0.000104</td>\n",
       "      <td>0.312340</td>\n",
       "      <td>0.481348</td>\n",
       "      <td>0.208470</td>\n",
       "      <td>-0.028662</td>\n",
       "      <td>0.228136</td>\n",
       "      <td>-0.112516</td>\n",
       "      <td>1.000000</td>\n",
       "      <td>0.139204</td>\n",
       "      <td>-0.122603</td>\n",
       "      <td>-0.015645</td>\n",
       "    </tr>\n",
       "    <tr>\n",
       "      <td>Maximum Open Credit</td>\n",
       "      <td>-0.001271</td>\n",
       "      <td>-0.002827</td>\n",
       "      <td>0.053064</td>\n",
       "      <td>0.039268</td>\n",
       "      <td>0.031124</td>\n",
       "      <td>-0.008785</td>\n",
       "      <td>0.031341</td>\n",
       "      <td>-0.012072</td>\n",
       "      <td>0.139204</td>\n",
       "      <td>1.000000</td>\n",
       "      <td>-0.014574</td>\n",
       "      <td>-0.001029</td>\n",
       "    </tr>\n",
       "    <tr>\n",
       "      <td>Bankruptcies</td>\n",
       "      <td>-0.000608</td>\n",
       "      <td>-0.006935</td>\n",
       "      <td>-0.047672</td>\n",
       "      <td>-0.078979</td>\n",
       "      <td>0.066247</td>\n",
       "      <td>0.123951</td>\n",
       "      <td>-0.024575</td>\n",
       "      <td>0.752942</td>\n",
       "      <td>-0.122603</td>\n",
       "      <td>-0.014574</td>\n",
       "      <td>1.000000</td>\n",
       "      <td>0.046110</td>\n",
       "    </tr>\n",
       "    <tr>\n",
       "      <td>Tax Liens</td>\n",
       "      <td>-0.002048</td>\n",
       "      <td>0.005146</td>\n",
       "      <td>0.040167</td>\n",
       "      <td>0.020119</td>\n",
       "      <td>0.017245</td>\n",
       "      <td>0.012624</td>\n",
       "      <td>0.006545</td>\n",
       "      <td>0.581290</td>\n",
       "      <td>-0.015645</td>\n",
       "      <td>-0.001029</td>\n",
       "      <td>0.046110</td>\n",
       "      <td>1.000000</td>\n",
       "    </tr>\n",
       "  </tbody>\n",
       "</table>\n",
       "</div>"
      ],
      "text/plain": [
       "                              Current Loan Amount  Credit Score  \\\n",
       "Current Loan Amount                      1.000000     -0.096652   \n",
       "Credit Score                            -0.096652      1.000000   \n",
       "Annual Income                            0.013112     -0.017078   \n",
       "Monthly Debt                            -0.006643     -0.001674   \n",
       "Years of Credit History                  0.019282     -0.009720   \n",
       "Months since last delinquent             0.011248     -0.003739   \n",
       "Number of Open Accounts                  0.001478      0.006435   \n",
       "Number of Credit Problems               -0.002795     -0.003022   \n",
       "Current Credit Balance                   0.003880     -0.000104   \n",
       "Maximum Open Credit                     -0.001271     -0.002827   \n",
       "Bankruptcies                            -0.000608     -0.006935   \n",
       "Tax Liens                               -0.002048      0.005146   \n",
       "\n",
       "                              Annual Income  Monthly Debt  \\\n",
       "Current Loan Amount                0.013112     -0.006643   \n",
       "Credit Score                      -0.017078     -0.001674   \n",
       "Annual Income                      1.000000      0.485230   \n",
       "Monthly Debt                       0.485230      1.000000   \n",
       "Years of Credit History            0.161669      0.199289   \n",
       "Months since last delinquent      -0.077577     -0.056818   \n",
       "Number of Open Accounts            0.146175      0.411353   \n",
       "Number of Credit Problems         -0.017006     -0.055383   \n",
       "Current Credit Balance             0.312340      0.481348   \n",
       "Maximum Open Credit                0.053064      0.039268   \n",
       "Bankruptcies                      -0.047672     -0.078979   \n",
       "Tax Liens                          0.040167      0.020119   \n",
       "\n",
       "                              Years of Credit History  \\\n",
       "Current Loan Amount                          0.019282   \n",
       "Credit Score                                -0.009720   \n",
       "Annual Income                                0.161669   \n",
       "Monthly Debt                                 0.199289   \n",
       "Years of Credit History                      1.000000   \n",
       "Months since last delinquent                -0.044292   \n",
       "Number of Open Accounts                      0.132349   \n",
       "Number of Credit Problems                    0.061588   \n",
       "Current Credit Balance                       0.208470   \n",
       "Maximum Open Credit                          0.031124   \n",
       "Bankruptcies                                 0.066247   \n",
       "Tax Liens                                    0.017245   \n",
       "\n",
       "                              Months since last delinquent  \\\n",
       "Current Loan Amount                               0.011248   \n",
       "Credit Score                                     -0.003739   \n",
       "Annual Income                                    -0.077577   \n",
       "Monthly Debt                                     -0.056818   \n",
       "Years of Credit History                          -0.044292   \n",
       "Months since last delinquent                      1.000000   \n",
       "Number of Open Accounts                          -0.032569   \n",
       "Number of Credit Problems                         0.104642   \n",
       "Current Credit Balance                           -0.028662   \n",
       "Maximum Open Credit                              -0.008785   \n",
       "Bankruptcies                                      0.123951   \n",
       "Tax Liens                                         0.012624   \n",
       "\n",
       "                              Number of Open Accounts  \\\n",
       "Current Loan Amount                          0.001478   \n",
       "Credit Score                                 0.006435   \n",
       "Annual Income                                0.146175   \n",
       "Monthly Debt                                 0.411353   \n",
       "Years of Credit History                      0.132349   \n",
       "Months since last delinquent                -0.032569   \n",
       "Number of Open Accounts                      1.000000   \n",
       "Number of Credit Problems                   -0.013995   \n",
       "Current Credit Balance                       0.228136   \n",
       "Maximum Open Credit                          0.031341   \n",
       "Bankruptcies                                -0.024575   \n",
       "Tax Liens                                    0.006545   \n",
       "\n",
       "                              Number of Credit Problems  \\\n",
       "Current Loan Amount                           -0.002795   \n",
       "Credit Score                                  -0.003022   \n",
       "Annual Income                                 -0.017006   \n",
       "Monthly Debt                                  -0.055383   \n",
       "Years of Credit History                        0.061588   \n",
       "Months since last delinquent                   0.104642   \n",
       "Number of Open Accounts                       -0.013995   \n",
       "Number of Credit Problems                      1.000000   \n",
       "Current Credit Balance                        -0.112516   \n",
       "Maximum Open Credit                           -0.012072   \n",
       "Bankruptcies                                   0.752942   \n",
       "Tax Liens                                      0.581290   \n",
       "\n",
       "                              Current Credit Balance  Maximum Open Credit  \\\n",
       "Current Loan Amount                         0.003880            -0.001271   \n",
       "Credit Score                               -0.000104            -0.002827   \n",
       "Annual Income                               0.312340             0.053064   \n",
       "Monthly Debt                                0.481348             0.039268   \n",
       "Years of Credit History                     0.208470             0.031124   \n",
       "Months since last delinquent               -0.028662            -0.008785   \n",
       "Number of Open Accounts                     0.228136             0.031341   \n",
       "Number of Credit Problems                  -0.112516            -0.012072   \n",
       "Current Credit Balance                      1.000000             0.139204   \n",
       "Maximum Open Credit                         0.139204             1.000000   \n",
       "Bankruptcies                               -0.122603            -0.014574   \n",
       "Tax Liens                                  -0.015645            -0.001029   \n",
       "\n",
       "                              Bankruptcies  Tax Liens  \n",
       "Current Loan Amount              -0.000608  -0.002048  \n",
       "Credit Score                     -0.006935   0.005146  \n",
       "Annual Income                    -0.047672   0.040167  \n",
       "Monthly Debt                     -0.078979   0.020119  \n",
       "Years of Credit History           0.066247   0.017245  \n",
       "Months since last delinquent      0.123951   0.012624  \n",
       "Number of Open Accounts          -0.024575   0.006545  \n",
       "Number of Credit Problems         0.752942   0.581290  \n",
       "Current Credit Balance           -0.122603  -0.015645  \n",
       "Maximum Open Credit              -0.014574  -0.001029  \n",
       "Bankruptcies                      1.000000   0.046110  \n",
       "Tax Liens                         0.046110   1.000000  "
      ]
     },
     "execution_count": 33,
     "metadata": {},
     "output_type": "execute_result"
    }
   ],
   "source": [
    "df.corr(method=\"pearson\") #bancarotta e problemi di credito strettamente correlato anche tax liens e problemi di credito\n",
    "#df.corr(method=\"kendall\") #monthlydebt e income leggermente correlati #uguale alla prima\n",
    "#df.corr(method=\"spearman\")"
   ]
  },
  {
   "cell_type": "code",
   "execution_count": 34,
   "metadata": {
    "colab": {
     "base_uri": "https://localhost:8080/",
     "height": 421
    },
    "colab_type": "code",
    "id": "Jd5HqtXE54EW",
    "outputId": "1d550257-991e-4ae4-9010-1930ed0b2571"
   },
   "outputs": [
    {
     "data": {
      "text/plain": [
       "<matplotlib.axes._subplots.AxesSubplot at 0x1f89f0c95c8>"
      ]
     },
     "execution_count": 34,
     "metadata": {},
     "output_type": "execute_result"
    },
    {
     "data": {
      "image/png": "[encoded data removed]",
      "text/plain": [
       "<Figure size 432x288 with 2 Axes>"
      ]
     },
     "metadata": {
      "needs_background": "light"
     },
     "output_type": "display_data"
    }
   ],
   "source": [
    "import seaborn as sns\n",
    "corr=df_srm.corr()\n",
    "sns.heatmap(df_srm.corr())"
   ]
  },
  {
   "cell_type": "code",
   "execution_count": 35,
   "metadata": {
    "colab": {
     "base_uri": "https://localhost:8080/",
     "height": 293
    },
    "colab_type": "code",
    "id": "kwh7amX2pbxG",
    "outputId": "57c69d96-2914-47e6-a0cf-f7f296fc4d18"
   },
   "outputs": [
    {
     "data": {
      "image/png": "[encoded data removed]",
      "text/plain": [
       "<Figure size 432x288 with 16 Axes>"
      ]
     },
     "metadata": {
      "needs_background": "light"
     },
     "output_type": "display_data"
    }
   ],
   "source": [
    "pd.plotting.scatter_matrix(df[['Credit Score', 'Annual Income', 'Number of Credit Problems', 'Tax Liens']])\n",
    "plt.show() "
   ]
  },
  {
   "cell_type": "code",
   "execution_count": 36,
   "metadata": {
    "colab": {
     "base_uri": "https://localhost:8080/",
     "height": 551
    },
    "colab_type": "code",
    "id": "HcB6KtnklZr_",
    "outputId": "1a259ba2-e25c-4f48-c84b-017ea061c769"
   },
   "outputs": [
    {
     "data": {
      "image/png": "[encoded data removed]",
      "text/plain": [
       "<Figure size 432x288 with 9 Axes>"
      ]
     },
     "metadata": {
      "needs_background": "light"
     },
     "output_type": "display_data"
    },
    {
     "data": {
      "text/plain": [
       "(array([0. , 0.2, 0.4, 0.6, 0.8, 1. ]), <a list of 6 Text yticklabel objects>)"
      ]
     },
     "execution_count": 36,
     "metadata": {},
     "output_type": "execute_result"
    },
    {
     "data": {
      "image/png": "[encoded data removed]",
      "text/plain": [
       "<Figure size 432x288 with 1 Axes>"
      ]
     },
     "metadata": {
      "needs_background": "light"
     },
     "output_type": "display_data"
    }
   ],
   "source": [
    "pd.plotting.scatter_matrix(df[['Bankruptcies', 'Number of Credit Problems', 'Tax Liens']])\n",
    "#plt.yticks(rotation=0)\n",
    "plt.show() #gian: ho messo anche bancarotta perche ha la correlazione maggiore con number of credit problems\n",
    "          # non so sistemare le label sovrapposte a sx\n",
    "plt.yticks(rotation=0)"
   ]
  },
  {
   "cell_type": "code",
   "execution_count": 37,
   "metadata": {
    "colab": {
     "base_uri": "https://localhost:8080/",
     "height": 421
    },
    "colab_type": "code",
    "id": "k-aUG0cXrk1B",
    "outputId": "22207d01-5754-4e13-b1a0-8ccb16eda8bc"
   },
   "outputs": [
    {
     "data": {
      "image/png": "[encoded data removed]",
      "text/plain": [
       "<Figure size 432x288 with 1 Axes>"
      ]
     },
     "metadata": {
      "needs_background": "light"
     },
     "output_type": "display_data"
    },
    {
     "data": {
      "text/plain": [
       "0.0    88774\n",
       "1.0    10475\n",
       "2.0      417\n",
       "3.0       93\n",
       "4.0       27\n",
       "5.0        7\n",
       "6.0        2\n",
       "7.0        1\n",
       "Name: Bankruptcies, dtype: int64"
      ]
     },
     "execution_count": 37,
     "metadata": {},
     "output_type": "execute_result"
    }
   ],
   "source": [
    "df['Bankruptcies'].hist(bins=100)\n",
    "plt.show()\n",
    "df['Bankruptcies'].value_counts()"
   ]
  },
  {
   "cell_type": "code",
   "execution_count": 38,
   "metadata": {
    "colab": {
     "base_uri": "https://localhost:8080/",
     "height": 491
    },
    "colab_type": "code",
    "id": "PxBBKT3msDsr",
    "outputId": "220f1b07-3ce8-40db-d5b6-8dae6b0d0f44"
   },
   "outputs": [
    {
     "data": {
      "image/png": "[encoded data removed]",
      "text/plain": [
       "<Figure size 432x288 with 1 Axes>"
      ]
     },
     "metadata": {
      "needs_background": "light"
     },
     "output_type": "display_data"
    },
    {
     "data": {
      "text/plain": [
       "0.0     98062\n",
       "1.0      1343\n",
       "2.0       374\n",
       "3.0       111\n",
       "4.0        58\n",
       "5.0        16\n",
       "6.0        12\n",
       "7.0         7\n",
       "9.0         3\n",
       "11.0        2\n",
       "15.0        1\n",
       "10.0        1\n",
       "Name: Tax Liens, dtype: int64"
      ]
     },
     "execution_count": 38,
     "metadata": {},
     "output_type": "execute_result"
    }
   ],
   "source": [
    "df['Tax Liens'].hist(bins=16)\n",
    "plt.show()\n",
    "df['Tax Liens'].value_counts()"
   ]
  },
  {
   "cell_type": "code",
   "execution_count": 39,
   "metadata": {
    "colab": {
     "base_uri": "https://localhost:8080/",
     "height": 266
    },
    "colab_type": "code",
    "id": "vRqL3cgaL6lU",
    "outputId": "11f4c9a0-0019-4b26-f71c-482b0f0cdeec"
   },
   "outputs": [
    {
     "data": {
      "image/png": "[encoded data removed]",
      "text/plain": [
       "<Figure size 432x288 with 1 Axes>"
      ]
     },
     "metadata": {
      "needs_background": "light"
     },
     "output_type": "display_data"
    }
   ],
   "source": [
    "df['Loan Status'].hist(bins=16)\n",
    "plt.show()"
   ]
  },
  {
   "cell_type": "code",
   "execution_count": 40,
   "metadata": {
    "colab": {
     "base_uri": "https://localhost:8080/",
     "height": 473
    },
    "colab_type": "code",
    "id": "l65mQNtr6C8D",
    "outputId": "17370b1b-ee92-48b4-e541-b6b8f66b815d"
   },
   "outputs": [
    {
     "data": {
      "image/png": "[encoded data removed]",
      "text/plain": [
       "<Figure size 432x288 with 1 Axes>"
      ]
     },
     "metadata": {
      "needs_background": "light"
     },
     "output_type": "display_data"
    },
    {
     "data": {
      "text/plain": [
       "16.0    1340\n",
       "15.0    1305\n",
       "17.0    1219\n",
       "16.5    1176\n",
       "14.0    1151\n",
       "        ... \n",
       "59.9       1\n",
       "51.4       1\n",
       "58.0       1\n",
       "53.8       1\n",
       "52.2       1\n",
       "Name: Years of Credit History, Length: 506, dtype: int64"
      ]
     },
     "execution_count": 40,
     "metadata": {},
     "output_type": "execute_result"
    }
   ],
   "source": [
    "df['Years of Credit History'].hist(bins=16)    #k = [log2(n)+1] (n=sample size)\n",
    "plt.show()\n",
    "df['Years of Credit History'].value_counts()"
   ]
  },
  {
   "cell_type": "code",
   "execution_count": 43,
   "metadata": {
    "colab": {
     "base_uri": "https://localhost:8080/",
     "height": 742
    },
    "colab_type": "code",
    "id": "Yq-edJzo6Lj-",
    "outputId": "c7fa77a5-a9ad-4d43-9aa4-ec8ca3cdd5f2"
   },
   "outputs": [
    {
     "data": {
      "text/plain": [
       "(array([     0.,  20000.,  40000.,  60000.,  80000., 100000.]),\n",
       " <a list of 6 Text yticklabel objects>)"
      ]
     },
     "execution_count": 43,
     "metadata": {},
     "output_type": "execute_result"
    },
    {
     "data": {
      "image/png": "[encoded data removed]",
      "text/plain": [
       "<Figure size 720x720 with 4 Axes>"
      ]
     },
     "metadata": {
      "needs_background": "light"
     },
     "output_type": "display_data"
    }
   ],
   "source": [
    "fig = plt.figure(figsize=(10, 10)) \n",
    "fig_dims = (3, 2)\n",
    "plt.subplot2grid(fig_dims, (0, 0))\n",
    "df['Years in current job'].value_counts().plot(kind='bar', \n",
    "                                   title='Years in current job')\n",
    "\n",
    "plt.subplot2grid(fig_dims, (0,1))\n",
    "df['Bankruptcies'].value_counts().plot(kind='bar', title='Bankruptcies')\n",
    "\n",
    "plt.subplot2grid(fig_dims, (2,0))\n",
    "df['Home Ownership'].value_counts().plot(kind='bar', title='Home Ownership')\n",
    "#possibile correlazione tra home ownership e purpose\n",
    "#years in current job e bancarotte da tranquillità\n",
    "\n",
    "plt.subplot2grid(fig_dims, (2, 1))\n",
    "df['Purpose'].value_counts().plot(kind='bar', title='Purpose')\n",
    "plt.yticks(rotation=1)\n",
    "\n"
   ]
  },
  {
   "cell_type": "code",
   "execution_count": 44,
   "metadata": {
    "colab": {
     "base_uri": "https://localhost:8080/",
     "height": 225
    },
    "colab_type": "code",
    "id": "NKVLFaxCypn3",
    "outputId": "a9b37d30-9f18-47ab-b29c-e36d67fa29ab"
   },
   "outputs": [
    {
     "data": {
      "text/plain": [
       "10+ years    31121\n",
       "2 years       9134\n",
       "3 years       8169\n",
       "< 1 year      8164\n",
       "5 years       6787\n",
       "1 year        6460\n",
       "4 years       6143\n",
       "6 years       5686\n",
       "7 years       5577\n",
       "8 years       4582\n",
       "9 years       3955\n",
       "Name: Years in current job, dtype: int64"
      ]
     },
     "execution_count": 44,
     "metadata": {},
     "output_type": "execute_result"
    }
   ],
   "source": [
    "df[\"Years in current job\"].value_counts()"
   ]
  },
  {
   "cell_type": "code",
   "execution_count": 45,
   "metadata": {
    "colab": {
     "base_uri": "https://localhost:8080/",
     "height": 295
    },
    "colab_type": "code",
    "id": "uGsrbIQENaT_",
    "outputId": "a3b2356b-62be-46e3-fbd1-634e966109be"
   },
   "outputs": [
    {
     "data": {
      "text/plain": [
       "Debt Consolidation      78552\n",
       "Other                    9287\n",
       "Home Improvements        5839\n",
       "Business Loan            1569\n",
       "Buy a Car                1265\n",
       "Medical Bills            1127\n",
       "Buy House                 678\n",
       "Take a Trip               573\n",
       "major_purchase            352\n",
       "small_business            283\n",
       "moving                    150\n",
       "wedding                   115\n",
       "vacation                  101\n",
       "Educational Expenses       99\n",
       "renewable_energy           10\n",
       "Name: Purpose, dtype: int64"
      ]
     },
     "execution_count": 45,
     "metadata": {},
     "output_type": "execute_result"
    }
   ],
   "source": [
    "df_srm[\"Purpose\"].value_counts()"
   ]
  },
  {
   "cell_type": "code",
   "execution_count": 46,
   "metadata": {
    "colab": {
     "base_uri": "https://localhost:8080/",
     "height": 473
    },
    "colab_type": "code",
    "id": "fbY0swJ1ysmx",
    "outputId": "5b70f13b-f4f1-4df4-ba60-f8f5677767c6"
   },
   "outputs": [
    {
     "data": {
      "image/png": "[encoded data removed]",
      "text/plain": [
       "<Figure size 432x288 with 1 Axes>"
      ]
     },
     "metadata": {
      "needs_background": "light"
     },
     "output_type": "display_data"
    },
    {
     "data": {
      "text/plain": [
       "0.00        74\n",
       "15903.00     9\n",
       "11162.88     9\n",
       "16279.20     8\n",
       "12656.47     8\n",
       "            ..\n",
       "8573.56      1\n",
       "26028.29     1\n",
       "17368.85     1\n",
       "23404.58     1\n",
       "30723.00     1\n",
       "Name: Monthly Debt, Length: 65765, dtype: int64"
      ]
     },
     "execution_count": 46,
     "metadata": {},
     "output_type": "execute_result"
    }
   ],
   "source": [
    "df['Monthly Debt'].hist(bins=16)\n",
    "plt.show()\n",
    "df['Monthly Debt'].value_counts() #strano che debito mensile sia 0"
   ]
  },
  {
   "cell_type": "code",
   "execution_count": 47,
   "metadata": {
    "colab": {
     "base_uri": "https://localhost:8080/",
     "height": 290
    },
    "colab_type": "code",
    "id": "cX9arnL9yuXX",
    "outputId": "f90bbd86-60f5-4a46-9a9a-2f67b5054fba"
   },
   "outputs": [
    {
     "data": {
      "image/png": "[encoded data removed]",
      "text/plain": [
       "<Figure size 432x288 with 1 Axes>"
      ]
     },
     "metadata": {
      "needs_background": "light"
     },
     "output_type": "display_data"
    }
   ],
   "source": [
    "plt.scatter(df[df['Number of Credit Problems'] == 0]['Number of Open Accounts'], \n",
    "            df[df['Number of Credit Problems'] == 0]['Annual Income'], color='b', marker='*', label='no credit problems')\n",
    "plt.scatter(df[df['Number of Credit Problems'] >= 1]['Number of Open Accounts'], \n",
    "            df[df['Number of Credit Problems'] >= 1]['Annual Income'], color='r',label='some credit problem')\n",
    "plt.xlabel('Number of Open Accounts')\n",
    "plt.ylabel('Annual Income')\n",
    "plt.legend()\n",
    "plt.show()\n",
    "#si può notare che sicuramente chi non ha mai avuto problemi di credito ha un alto reddito o ha avuto più accesso al credito"
   ]
  },
  {
   "cell_type": "markdown",
   "metadata": {
    "colab_type": "text",
    "id": "1IfbNtu1KXii"
   },
   "source": [
    "# ***Sostituzione dei Missing Values***"
   ]
  },
  {
   "cell_type": "code",
   "execution_count": 16,
   "metadata": {
    "colab": {
     "base_uri": "https://localhost:8080/",
     "height": 104
    },
    "colab_type": "code",
    "id": "ZtOv-AUcoeZO",
    "outputId": "1415550d-f094-4336-d059-bb2c3aaed4a4"
   },
   "outputs": [
    {
     "data": {
      "text/plain": [
       "count         100000\n",
       "unique             2\n",
       "top       Fully Paid\n",
       "freq           77361\n",
       "Name: Loan Status, dtype: object"
      ]
     },
     "execution_count": 16,
     "metadata": {},
     "output_type": "execute_result"
    }
   ],
   "source": [
    "df[\"Loan Status\"].describe()"
   ]
  },
  {
   "cell_type": "code",
   "execution_count": 17,
   "metadata": {
    "colab": {
     "base_uri": "https://localhost:8080/",
     "height": 35
    },
    "colab_type": "code",
    "id": "u5MUoj4gwqw_",
    "outputId": "6cb0a4c5-ac5a-4cee-8325-4b6239668b37"
   },
   "outputs": [
    {
     "data": {
      "text/plain": [
       "array(['Fully Paid', 'Charged Off', nan], dtype=object)"
      ]
     },
     "execution_count": 17,
     "metadata": {},
     "output_type": "execute_result"
    }
   ],
   "source": [
    "df['Loan Status'].unique()"
   ]
  },
  {
   "cell_type": "code",
   "execution_count": 18,
   "metadata": {
    "colab": {
     "base_uri": "https://localhost:8080/",
     "height": 104
    },
    "colab_type": "code",
    "id": "Xa9qFk6YxwFm",
    "outputId": "38f8b8ba-a455-4912-f1e5-738c62a2357d"
   },
   "outputs": [
    {
     "ename": "NameError",
     "evalue": "name 'missing_Loanstatus' is not defined",
     "output_type": "error",
     "traceback": [
      "\u001b[1;31m---------------------------------------------------------------------------\u001b[0m",
      "\u001b[1;31mNameError\u001b[0m                                 Traceback (most recent call last)",
      "\u001b[1;32m<ipython-input-18-a5668e76a00d>\u001b[0m in \u001b[0;36m<module>\u001b[1;34m\u001b[0m\n\u001b[1;32m----> 1\u001b[1;33m \u001b[0mmissing_Loanstatus\u001b[0m\u001b[1;33m.\u001b[0m\u001b[0mdescribe\u001b[0m\u001b[1;33m(\u001b[0m\u001b[1;33m)\u001b[0m\u001b[1;33m\u001b[0m\u001b[1;33m\u001b[0m\u001b[0m\n\u001b[0m",
      "\u001b[1;31mNameError\u001b[0m: name 'missing_Loanstatus' is not defined"
     ]
    }
   ],
   "source": [
    "missing_Loanstatus.describe()"
   ]
  },
  {
   "cell_type": "code",
   "execution_count": 19,
   "metadata": {
    "colab": {
     "base_uri": "https://localhost:8080/",
     "height": 364
    },
    "colab_type": "code",
    "id": "cC7tgrBFo0GC",
    "outputId": "65e38b84-d6f3-4a91-9a25-1ca9bf0e85df"
   },
   "outputs": [
    {
     "data": {
      "text/plain": [
       "Loan ID                             0\n",
       "Customer ID                         0\n",
       "Loan Status                         0\n",
       "Current Loan Amount                 0\n",
       "Term                                0\n",
       "Credit Score                    19154\n",
       "Annual Income                   19154\n",
       "Years in current job             4222\n",
       "Home Ownership                      0\n",
       "Purpose                             0\n",
       "Monthly Debt                        0\n",
       "Years of Credit History             0\n",
       "Months since last delinquent    53141\n",
       "Number of Open Accounts             0\n",
       "Number of Credit Problems           0\n",
       "Current Credit Balance              0\n",
       "Maximum Open Credit                 2\n",
       "Bankruptcies                      204\n",
       "Tax Liens                          10\n",
       "dtype: int64"
      ]
     },
     "execution_count": 19,
     "metadata": {},
     "output_type": "execute_result"
    }
   ],
   "source": [
    "df_srm=df.dropna(axis=0, how='all') #srm=senza righe mancanti;\n",
    "df_srm.isnull().sum()\n",
    "                                                            #DIREI DI ELIMINARE MONTHS SINCE LAST DELINQUENT visto che ne mancano la metà e vedere cosa\n",
    "                                                            #fare con CREDIT SCORE E ANNUAL INCOME PERCHE' è strano che ne manchino in eguale quantità.\n",
    "                                                            #il credit score dipende dal rapporto fra reddito e debito, quindi è possibile che l'assenza \n",
    "                                                            #dipende da questo"
   ]
  },
  {
   "cell_type": "code",
   "execution_count": 22,
   "metadata": {},
   "outputs": [
    {
     "name": "stdout",
     "output_type": "stream",
     "text": [
      "count    99990.000000\n",
      "mean         0.029313\n",
      "std          0.258182\n",
      "min          0.000000\n",
      "25%          0.000000\n",
      "50%          0.000000\n",
      "75%          0.000000\n",
      "max         15.000000\n",
      "Name: Tax Liens, dtype: float64\n"
     ]
    },
    {
     "name": "stderr",
     "output_type": "stream",
     "text": [
      "C:\\Users\\Gianmarco\\anaconda3\\lib\\site-packages\\ipykernel_launcher.py:1: SettingWithCopyWarning: \n",
      "A value is trying to be set on a copy of a slice from a DataFrame.\n",
      "Try using .loc[row_indexer,col_indexer] = value instead\n",
      "\n",
      "See the caveats in the documentation: https://pandas.pydata.org/pandas-docs/stable/user_guide/indexing.html#returning-a-view-versus-a-copy\n",
      "  \"\"\"Entry point for launching an IPython kernel.\n"
     ]
    }
   ],
   "source": [
    "df_srm['Maximum Open Credit'] = df_srm['Maximum Open Credit'].fillna(df['Maximum Open Credit'].mode()[0])\n",
    "print(df_srm[\"Tax Liens\"].describe())"
   ]
  },
  {
   "cell_type": "code",
   "execution_count": 23,
   "metadata": {
    "colab": {
     "base_uri": "https://localhost:8080/",
     "height": 35
    },
    "colab_type": "code",
    "id": "ejJTY9rjHIci",
    "outputId": "7477141a-e4ff-4f3d-93aa-94479a99ef3f"
   },
   "outputs": [
    {
     "data": {
      "text/plain": [
       "(100000, 19)"
      ]
     },
     "execution_count": 23,
     "metadata": {},
     "output_type": "execute_result"
    }
   ],
   "source": [
    "df_srm.shape"
   ]
  },
  {
   "cell_type": "code",
   "execution_count": 24,
   "metadata": {},
   "outputs": [
    {
     "data": {
      "text/plain": [
       "array([ 0.,  1.,  2.,  4.,  3.,  6.,  5., nan, 11., 15.,  9.,  7., 10.])"
      ]
     },
     "execution_count": 24,
     "metadata": {},
     "output_type": "execute_result"
    }
   ],
   "source": [
    "df_srm['Tax Liens'].unique()"
   ]
  },
  {
   "cell_type": "code",
   "execution_count": 25,
   "metadata": {
    "colab": {
     "base_uri": "https://localhost:8080/",
     "height": 305
    },
    "colab_type": "code",
    "id": "uMld6OiRBkyv",
    "outputId": "5c1c74da-49ca-4d6c-f160-bb6252683461"
   },
   "outputs": [
    {
     "name": "stdout",
     "output_type": "stream",
     "text": [
      "count    100000.00000\n",
      "mean          0.02931\n",
      "std           0.25817\n",
      "min           0.00000\n",
      "25%           0.00000\n",
      "50%           0.00000\n",
      "75%           0.00000\n",
      "max          15.00000\n",
      "Name: Tax Liens, dtype: float64\n"
     ]
    },
    {
     "name": "stderr",
     "output_type": "stream",
     "text": [
      "C:\\Users\\Gianmarco\\anaconda3\\lib\\site-packages\\ipykernel_launcher.py:4: SettingWithCopyWarning: \n",
      "A value is trying to be set on a copy of a slice from a DataFrame.\n",
      "Try using .loc[row_indexer,col_indexer] = value instead\n",
      "\n",
      "See the caveats in the documentation: https://pandas.pydata.org/pandas-docs/stable/user_guide/indexing.html#returning-a-view-versus-a-copy\n",
      "  after removing the cwd from sys.path.\n"
     ]
    }
   ],
   "source": [
    "#Missing_Taxliens=df_srm[\"Tax Liens\"].dropna()\n",
    "#print(Missing_Taxliens.describe()) #sembra ci siano outliers\n",
    "#df_srm.loc[\"Tax Liens\"]=df_srm.loc[\"Tax Liens\"].fillna(df_srm[\"Tax Liens\"].mean()) gian ho sostituito ai m.v la moda perche tax liens in realta sono solo interi\n",
    "df_srm['Tax Liens'] = df_srm['Tax Liens'].fillna(df['Tax Liens'].mode()[0])\n",
    "print(df_srm[\"Tax Liens\"].describe()) #non cambia mai niente "
   ]
  },
  {
   "cell_type": "code",
   "execution_count": 26,
   "metadata": {
    "colab": {
     "base_uri": "https://localhost:8080/",
     "height": 173
    },
    "colab_type": "code",
    "id": "b-fIdDDuHE6l",
    "outputId": "2906f5aa-1881-4440-a4ac-58b321b2fcf2"
   },
   "outputs": [
    {
     "name": "stdout",
     "output_type": "stream",
     "text": [
      "count    100000.000000\n",
      "mean          0.117500\n",
      "std           0.351105\n",
      "min           0.000000\n",
      "25%           0.000000\n",
      "50%           0.000000\n",
      "75%           0.000000\n",
      "max           7.000000\n",
      "Name: Bankruptcies, dtype: float64\n"
     ]
    },
    {
     "name": "stderr",
     "output_type": "stream",
     "text": [
      "C:\\Users\\Gianmarco\\anaconda3\\lib\\site-packages\\ipykernel_launcher.py:4: SettingWithCopyWarning: \n",
      "A value is trying to be set on a copy of a slice from a DataFrame.\n",
      "Try using .loc[row_indexer,col_indexer] = value instead\n",
      "\n",
      "See the caveats in the documentation: https://pandas.pydata.org/pandas-docs/stable/user_guide/indexing.html#returning-a-view-versus-a-copy\n",
      "  after removing the cwd from sys.path.\n"
     ]
    }
   ],
   "source": [
    "#Missing_bankruptcies=df_srm[\"Bankruptcies\"].dropna() #visto che la media di bancarotta è 0,1, potremmo sostituirla con 0, perché se il valore manca\n",
    "                                                     #può essere perché non c'è stata bancarotta. gian :0 è anche la moda\n",
    "#df_srm[\"Bankruptcies\"]=df_srm[\"Bankruptcies\"].fillna(0)\n",
    "df_srm['Bankruptcies'] = df_srm['Bankruptcies'].fillna(df['Bankruptcies'].mode()[0])\n",
    "print(df_srm[\"Bankruptcies\"].describe()) "
   ]
  },
  {
   "cell_type": "code",
   "execution_count": 27,
   "metadata": {
    "colab": {
     "base_uri": "https://localhost:8080/",
     "height": 104
    },
    "colab_type": "code",
    "id": "7RReeWzIJPj6",
    "outputId": "6ed0e404-e185-480c-b072-e2e89d93963f"
   },
   "outputs": [
    {
     "name": "stdout",
     "output_type": "stream",
     "text": [
      "count        100000\n",
      "unique           11\n",
      "top       10+ years\n",
      "freq          35343\n",
      "Name: Years in current job, dtype: object\n"
     ]
    },
    {
     "name": "stderr",
     "output_type": "stream",
     "text": [
      "C:\\Users\\Gianmarco\\anaconda3\\lib\\site-packages\\ipykernel_launcher.py:7: SettingWithCopyWarning: \n",
      "A value is trying to be set on a copy of a slice from a DataFrame.\n",
      "Try using .loc[row_indexer,col_indexer] = value instead\n",
      "\n",
      "See the caveats in the documentation: https://pandas.pydata.org/pandas-docs/stable/user_guide/indexing.html#returning-a-view-versus-a-copy\n",
      "  import sys\n"
     ]
    }
   ],
   "source": [
    "#Missing_Years=df_srm[\"Years in current job\"].dropna()\n",
    "#print(Missing_Years.describe()) #è categorico \n",
    "#Sostituiti_Years=df_srm[\"Years in current job\"].fillna(method=\"ffill\")\n",
    "#print(Sostituiti_Years.describe())\n",
    "#df_srm[\"Years in current job\"].mode()\n",
    "#df_srm[\"Years in current job\"]=df_srm[\"Years in current job\"].fillna(\"10+ years\")\n",
    "df_srm['Years in current job'] = df_srm['Years in current job'].fillna(df['Years in current job'].mode()[0])\n",
    "print(df_srm[\"Years in current job\"].describe())"
   ]
  },
  {
   "cell_type": "code",
   "execution_count": 28,
   "metadata": {
    "colab": {
     "base_uri": "https://localhost:8080/",
     "height": 35
    },
    "colab_type": "code",
    "id": "fPBaGhrU3p8B",
    "outputId": "a385d30b-3c5d-45cd-e054-df732ecf3312"
   },
   "outputs": [
    {
     "data": {
      "text/plain": [
       "count    8.084600e+04\n",
       "mean     1.378277e+06\n",
       "std      1.081360e+06\n",
       "min      7.662700e+04\n",
       "25%      8.488440e+05\n",
       "50%      1.174162e+06\n",
       "75%      1.650663e+06\n",
       "max      1.655574e+08\n",
       "Name: Annual Income, dtype: float64"
      ]
     },
     "execution_count": 28,
     "metadata": {},
     "output_type": "execute_result"
    }
   ],
   "source": [
    "df_srm['Annual Income'].describe()"
   ]
  },
  {
   "cell_type": "code",
   "execution_count": 29,
   "metadata": {},
   "outputs": [
    {
     "name": "stdout",
     "output_type": "stream",
     "text": [
      "count    100000.000000\n",
      "mean       1076.456089\n",
      "std        1326.598950\n",
      "min         585.000000\n",
      "25%         711.000000\n",
      "50%         733.000000\n",
      "75%         750.000000\n",
      "max        7510.000000\n",
      "Name: Credit Score, dtype: float64\n"
     ]
    },
    {
     "name": "stderr",
     "output_type": "stream",
     "text": [
      "C:\\Users\\Gianmarco\\anaconda3\\lib\\site-packages\\ipykernel_launcher.py:1: SettingWithCopyWarning: \n",
      "A value is trying to be set on a copy of a slice from a DataFrame.\n",
      "Try using .loc[row_indexer,col_indexer] = value instead\n",
      "\n",
      "See the caveats in the documentation: https://pandas.pydata.org/pandas-docs/stable/user_guide/indexing.html#returning-a-view-versus-a-copy\n",
      "  \"\"\"Entry point for launching an IPython kernel.\n"
     ]
    }
   ],
   "source": [
    "df_srm['Credit Score']=df_srm['Credit Score'].fillna(df['Credit Score'].mean())\n",
    "print(df_srm['Credit Score'].describe())"
   ]
  },
  {
   "cell_type": "code",
   "execution_count": 30,
   "metadata": {},
   "outputs": [
    {
     "name": "stdout",
     "output_type": "stream",
     "text": [
      "count    1.000000e+05\n",
      "mean     1.378277e+06\n",
      "std      9.722974e+05\n",
      "min      7.662700e+04\n",
      "25%      9.311805e+05\n",
      "50%      1.369919e+06\n",
      "75%      1.512704e+06\n",
      "max      1.655574e+08\n",
      "Name: Annual Income, dtype: float64\n"
     ]
    },
    {
     "name": "stderr",
     "output_type": "stream",
     "text": [
      "C:\\Users\\Gianmarco\\anaconda3\\lib\\site-packages\\ipykernel_launcher.py:1: SettingWithCopyWarning: \n",
      "A value is trying to be set on a copy of a slice from a DataFrame.\n",
      "Try using .loc[row_indexer,col_indexer] = value instead\n",
      "\n",
      "See the caveats in the documentation: https://pandas.pydata.org/pandas-docs/stable/user_guide/indexing.html#returning-a-view-versus-a-copy\n",
      "  \"\"\"Entry point for launching an IPython kernel.\n"
     ]
    }
   ],
   "source": [
    "df_srm['Annual Income']=df_srm['Annual Income'].fillna(df['Annual Income'].mean())\n",
    "print(df_srm['Annual Income'].describe())"
   ]
  },
  {
   "cell_type": "code",
   "execution_count": 31,
   "metadata": {
    "colab": {
     "base_uri": "https://localhost:8080/",
     "height": 349
    },
    "colab_type": "code",
    "id": "ff5603eND4FZ",
    "outputId": "fc6a7fb6-e881-43c4-ade3-9a4f116f5002"
   },
   "outputs": [
    {
     "data": {
      "text/html": [
       "<div>\n",
       "<style scoped>\n",
       "    .dataframe tbody tr th:only-of-type {\n",
       "        vertical-align: middle;\n",
       "    }\n",
       "\n",
       "    .dataframe tbody tr th {\n",
       "        vertical-align: top;\n",
       "    }\n",
       "\n",
       "    .dataframe thead th {\n",
       "        text-align: right;\n",
       "    }\n",
       "</style>\n",
       "<table border=\"1\" class=\"dataframe\">\n",
       "  <thead>\n",
       "    <tr style=\"text-align: right;\">\n",
       "      <th></th>\n",
       "      <th>Current Loan Amount</th>\n",
       "      <th>Credit Score</th>\n",
       "      <th>Annual Income</th>\n",
       "      <th>Monthly Debt</th>\n",
       "      <th>Years of Credit History</th>\n",
       "      <th>Months since last delinquent</th>\n",
       "      <th>Number of Open Accounts</th>\n",
       "      <th>Number of Credit Problems</th>\n",
       "      <th>Current Credit Balance</th>\n",
       "      <th>Maximum Open Credit</th>\n",
       "      <th>Bankruptcies</th>\n",
       "      <th>Tax Liens</th>\n",
       "    </tr>\n",
       "  </thead>\n",
       "  <tbody>\n",
       "    <tr>\n",
       "      <th>count</th>\n",
       "      <td>1.000000e+05</td>\n",
       "      <td>100000.000000</td>\n",
       "      <td>1.000000e+05</td>\n",
       "      <td>100000.000000</td>\n",
       "      <td>100000.000000</td>\n",
       "      <td>46859.000000</td>\n",
       "      <td>100000.00000</td>\n",
       "      <td>100000.000000</td>\n",
       "      <td>1.000000e+05</td>\n",
       "      <td>1.000000e+05</td>\n",
       "      <td>100000.000000</td>\n",
       "      <td>100000.00000</td>\n",
       "    </tr>\n",
       "    <tr>\n",
       "      <th>mean</th>\n",
       "      <td>1.176045e+07</td>\n",
       "      <td>1076.456089</td>\n",
       "      <td>1.378277e+06</td>\n",
       "      <td>18472.412336</td>\n",
       "      <td>18.199141</td>\n",
       "      <td>34.901321</td>\n",
       "      <td>11.12853</td>\n",
       "      <td>0.168310</td>\n",
       "      <td>2.946374e+05</td>\n",
       "      <td>7.607832e+05</td>\n",
       "      <td>0.117500</td>\n",
       "      <td>0.02931</td>\n",
       "    </tr>\n",
       "    <tr>\n",
       "      <th>std</th>\n",
       "      <td>3.178394e+07</td>\n",
       "      <td>1326.598950</td>\n",
       "      <td>9.722974e+05</td>\n",
       "      <td>12174.992609</td>\n",
       "      <td>7.015324</td>\n",
       "      <td>21.997829</td>\n",
       "      <td>5.00987</td>\n",
       "      <td>0.482705</td>\n",
       "      <td>3.761709e+05</td>\n",
       "      <td>8.384420e+06</td>\n",
       "      <td>0.351105</td>\n",
       "      <td>0.25817</td>\n",
       "    </tr>\n",
       "    <tr>\n",
       "      <th>min</th>\n",
       "      <td>1.080200e+04</td>\n",
       "      <td>585.000000</td>\n",
       "      <td>7.662700e+04</td>\n",
       "      <td>0.000000</td>\n",
       "      <td>3.600000</td>\n",
       "      <td>0.000000</td>\n",
       "      <td>0.00000</td>\n",
       "      <td>0.000000</td>\n",
       "      <td>0.000000e+00</td>\n",
       "      <td>0.000000e+00</td>\n",
       "      <td>0.000000</td>\n",
       "      <td>0.00000</td>\n",
       "    </tr>\n",
       "    <tr>\n",
       "      <th>25%</th>\n",
       "      <td>1.796520e+05</td>\n",
       "      <td>711.000000</td>\n",
       "      <td>9.311805e+05</td>\n",
       "      <td>10214.162500</td>\n",
       "      <td>13.500000</td>\n",
       "      <td>16.000000</td>\n",
       "      <td>8.00000</td>\n",
       "      <td>0.000000</td>\n",
       "      <td>1.126700e+05</td>\n",
       "      <td>2.734325e+05</td>\n",
       "      <td>0.000000</td>\n",
       "      <td>0.00000</td>\n",
       "    </tr>\n",
       "    <tr>\n",
       "      <th>50%</th>\n",
       "      <td>3.122460e+05</td>\n",
       "      <td>733.000000</td>\n",
       "      <td>1.369919e+06</td>\n",
       "      <td>16220.300000</td>\n",
       "      <td>16.900000</td>\n",
       "      <td>32.000000</td>\n",
       "      <td>10.00000</td>\n",
       "      <td>0.000000</td>\n",
       "      <td>2.098170e+05</td>\n",
       "      <td>4.678740e+05</td>\n",
       "      <td>0.000000</td>\n",
       "      <td>0.00000</td>\n",
       "    </tr>\n",
       "    <tr>\n",
       "      <th>75%</th>\n",
       "      <td>5.249420e+05</td>\n",
       "      <td>750.000000</td>\n",
       "      <td>1.512704e+06</td>\n",
       "      <td>24012.057500</td>\n",
       "      <td>21.700000</td>\n",
       "      <td>51.000000</td>\n",
       "      <td>14.00000</td>\n",
       "      <td>0.000000</td>\n",
       "      <td>3.679588e+05</td>\n",
       "      <td>7.829580e+05</td>\n",
       "      <td>0.000000</td>\n",
       "      <td>0.00000</td>\n",
       "    </tr>\n",
       "    <tr>\n",
       "      <th>max</th>\n",
       "      <td>1.000000e+08</td>\n",
       "      <td>7510.000000</td>\n",
       "      <td>1.655574e+08</td>\n",
       "      <td>435843.280000</td>\n",
       "      <td>70.500000</td>\n",
       "      <td>176.000000</td>\n",
       "      <td>76.00000</td>\n",
       "      <td>15.000000</td>\n",
       "      <td>3.287897e+07</td>\n",
       "      <td>1.539738e+09</td>\n",
       "      <td>7.000000</td>\n",
       "      <td>15.00000</td>\n",
       "    </tr>\n",
       "  </tbody>\n",
       "</table>\n",
       "</div>"
      ],
      "text/plain": [
       "       Current Loan Amount   Credit Score  Annual Income   Monthly Debt  \\\n",
       "count         1.000000e+05  100000.000000   1.000000e+05  100000.000000   \n",
       "mean          1.176045e+07    1076.456089   1.378277e+06   18472.412336   \n",
       "std           3.178394e+07    1326.598950   9.722974e+05   12174.992609   \n",
       "min           1.080200e+04     585.000000   7.662700e+04       0.000000   \n",
       "25%           1.796520e+05     711.000000   9.311805e+05   10214.162500   \n",
       "50%           3.122460e+05     733.000000   1.369919e+06   16220.300000   \n",
       "75%           5.249420e+05     750.000000   1.512704e+06   24012.057500   \n",
       "max           1.000000e+08    7510.000000   1.655574e+08  435843.280000   \n",
       "\n",
       "       Years of Credit History  Months since last delinquent  \\\n",
       "count            100000.000000                  46859.000000   \n",
       "mean                 18.199141                     34.901321   \n",
       "std                   7.015324                     21.997829   \n",
       "min                   3.600000                      0.000000   \n",
       "25%                  13.500000                     16.000000   \n",
       "50%                  16.900000                     32.000000   \n",
       "75%                  21.700000                     51.000000   \n",
       "max                  70.500000                    176.000000   \n",
       "\n",
       "       Number of Open Accounts  Number of Credit Problems  \\\n",
       "count             100000.00000              100000.000000   \n",
       "mean                  11.12853                   0.168310   \n",
       "std                    5.00987                   0.482705   \n",
       "min                    0.00000                   0.000000   \n",
       "25%                    8.00000                   0.000000   \n",
       "50%                   10.00000                   0.000000   \n",
       "75%                   14.00000                   0.000000   \n",
       "max                   76.00000                  15.000000   \n",
       "\n",
       "       Current Credit Balance  Maximum Open Credit   Bankruptcies  \\\n",
       "count            1.000000e+05         1.000000e+05  100000.000000   \n",
       "mean             2.946374e+05         7.607832e+05       0.117500   \n",
       "std              3.761709e+05         8.384420e+06       0.351105   \n",
       "min              0.000000e+00         0.000000e+00       0.000000   \n",
       "25%              1.126700e+05         2.734325e+05       0.000000   \n",
       "50%              2.098170e+05         4.678740e+05       0.000000   \n",
       "75%              3.679588e+05         7.829580e+05       0.000000   \n",
       "max              3.287897e+07         1.539738e+09       7.000000   \n",
       "\n",
       "          Tax Liens  \n",
       "count  100000.00000  \n",
       "mean        0.02931  \n",
       "std         0.25817  \n",
       "min         0.00000  \n",
       "25%         0.00000  \n",
       "50%         0.00000  \n",
       "75%         0.00000  \n",
       "max        15.00000  "
      ]
     },
     "execution_count": 31,
     "metadata": {},
     "output_type": "execute_result"
    }
   ],
   "source": [
    "df_srm.describe()"
   ]
  },
  {
   "cell_type": "code",
   "execution_count": 32,
   "metadata": {},
   "outputs": [
    {
     "data": {
      "text/plain": [
       "Loan ID                             0\n",
       "Customer ID                         0\n",
       "Loan Status                         0\n",
       "Current Loan Amount                 0\n",
       "Term                                0\n",
       "Credit Score                        0\n",
       "Annual Income                       0\n",
       "Years in current job                0\n",
       "Home Ownership                      0\n",
       "Purpose                             0\n",
       "Monthly Debt                        0\n",
       "Years of Credit History             0\n",
       "Months since last delinquent    53141\n",
       "Number of Open Accounts             0\n",
       "Number of Credit Problems           0\n",
       "Current Credit Balance              0\n",
       "Maximum Open Credit                 0\n",
       "Bankruptcies                        0\n",
       "Tax Liens                           0\n",
       "dtype: int64"
      ]
     },
     "execution_count": 32,
     "metadata": {},
     "output_type": "execute_result"
    }
   ],
   "source": [
    "df_srm.isnull().sum()"
   ]
  },
  {
   "cell_type": "code",
   "execution_count": 34,
   "metadata": {},
   "outputs": [],
   "source": [
    "df_srm.to_csv (r'C:\\Users\\Gianmarco\\Desktop\\export_dataframe.csv', index = False, header=True)"
   ]
  },
  {
   "cell_type": "markdown",
   "metadata": {
    "colab_type": "text",
    "id": "qcugPOwGDCLN"
   },
   "source": [
    "# ***Encoding variabili categoriche***"
   ]
  },
  {
   "cell_type": "code",
   "execution_count": 48,
   "metadata": {
    "colab": {
     "base_uri": "https://localhost:8080/",
     "height": 35
    },
    "colab_type": "code",
    "id": "mLdyeC00k90a",
    "outputId": "4b4b331b-d68b-463c-c56e-4aa1d4710f2b"
   },
   "outputs": [
    {
     "data": {
      "text/plain": [
       "array(['Fully Paid', 'Charged Off'], dtype=object)"
      ]
     },
     "execution_count": 48,
     "metadata": {},
     "output_type": "execute_result"
    }
   ],
   "source": [
    "df_srm['Loan Status'].unique()"
   ]
  },
  {
   "cell_type": "code",
   "execution_count": 49,
   "metadata": {
    "colab": {
     "base_uri": "https://localhost:8080/",
     "height": 35
    },
    "colab_type": "code",
    "id": "cb6i7RwdCwSW",
    "outputId": "e0c77d53-4036-443e-e582-e28b6e6d53fc"
   },
   "outputs": [
    {
     "data": {
      "text/plain": [
       "{'Charged Off': 0, 'Fully Paid': 1}"
      ]
     },
     "execution_count": 49,
     "metadata": {},
     "output_type": "execute_result"
    }
   ],
   "source": [
    "Loanstatus_numerico = sorted(df_srm['Loan Status'].unique()) \n",
    "mapping_Loanstatus = dict(zip(Loanstatus_numerico, range(0, len(Loanstatus_numerico) + 1)))\n",
    "mapping_Loanstatus \n"
   ]
  },
  {
   "cell_type": "code",
   "execution_count": 51,
   "metadata": {
    "colab": {
     "base_uri": "https://localhost:8080/",
     "height": 124
    },
    "colab_type": "code",
    "id": "tj4ESVosIiow",
    "outputId": "7174cfc9-6b52-4d82-eb48-633b244751b3"
   },
   "outputs": [
    {
     "ename": "ModuleNotFoundError",
     "evalue": "No module named 'google'",
     "output_type": "error",
     "traceback": [
      "\u001b[1;31m---------------------------------------------------------------------------\u001b[0m",
      "\u001b[1;31mModuleNotFoundError\u001b[0m                       Traceback (most recent call last)",
      "\u001b[1;32m<ipython-input-51-d5df0069828e>\u001b[0m in \u001b[0;36m<module>\u001b[1;34m\u001b[0m\n\u001b[1;32m----> 1\u001b[1;33m \u001b[1;32mfrom\u001b[0m \u001b[0mgoogle\u001b[0m\u001b[1;33m.\u001b[0m\u001b[0mcolab\u001b[0m \u001b[1;32mimport\u001b[0m \u001b[0mdrive\u001b[0m\u001b[1;33m\u001b[0m\u001b[1;33m\u001b[0m\u001b[0m\n\u001b[0m\u001b[0;32m      2\u001b[0m \u001b[0mdrive\u001b[0m\u001b[1;33m.\u001b[0m\u001b[0mmount\u001b[0m\u001b[1;33m(\u001b[0m\u001b[1;34m'/content/drive'\u001b[0m\u001b[1;33m)\u001b[0m\u001b[1;33m\u001b[0m\u001b[1;33m\u001b[0m\u001b[0m\n",
      "\u001b[1;31mModuleNotFoundError\u001b[0m: No module named 'google'"
     ]
    }
   ],
   "source": [
    "#from google.colab import drive\n",
    "#drive.mount('/content/drive')"
   ]
  },
  {
   "cell_type": "code",
   "execution_count": 52,
   "metadata": {
    "colab": {
     "base_uri": "https://localhost:8080/",
     "height": 202
    },
    "colab_type": "code",
    "id": "Nr6E3Kmg4QEJ",
    "outputId": "c6b03bc3-d1ef-4315-8978-02e3d898bc9c"
   },
   "outputs": [
    {
     "name": "stderr",
     "output_type": "stream",
     "text": [
      "C:\\Users\\Gianmarco\\Anaconda3\\lib\\site-packages\\ipykernel_launcher.py:1: SettingWithCopyWarning: \n",
      "A value is trying to be set on a copy of a slice from a DataFrame.\n",
      "Try using .loc[row_indexer,col_indexer] = value instead\n",
      "\n",
      "See the caveats in the documentation: http://pandas.pydata.org/pandas-docs/stable/user_guide/indexing.html#returning-a-view-versus-a-copy\n",
      "  \"\"\"Entry point for launching an IPython kernel.\n"
     ]
    },
    {
     "data": {
      "text/html": [
       "<div>\n",
       "<style scoped>\n",
       "    .dataframe tbody tr th:only-of-type {\n",
       "        vertical-align: middle;\n",
       "    }\n",
       "\n",
       "    .dataframe tbody tr th {\n",
       "        vertical-align: top;\n",
       "    }\n",
       "\n",
       "    .dataframe thead th {\n",
       "        text-align: right;\n",
       "    }\n",
       "</style>\n",
       "<table border=\"1\" class=\"dataframe\">\n",
       "  <thead>\n",
       "    <tr style=\"text-align: right;\">\n",
       "      <th></th>\n",
       "      <th>Loan Status</th>\n",
       "      <th>Loan_val</th>\n",
       "    </tr>\n",
       "  </thead>\n",
       "  <tbody>\n",
       "    <tr>\n",
       "      <td>0</td>\n",
       "      <td>Fully Paid</td>\n",
       "      <td>1</td>\n",
       "    </tr>\n",
       "    <tr>\n",
       "      <td>1</td>\n",
       "      <td>Fully Paid</td>\n",
       "      <td>1</td>\n",
       "    </tr>\n",
       "    <tr>\n",
       "      <td>2</td>\n",
       "      <td>Fully Paid</td>\n",
       "      <td>1</td>\n",
       "    </tr>\n",
       "    <tr>\n",
       "      <td>3</td>\n",
       "      <td>Fully Paid</td>\n",
       "      <td>1</td>\n",
       "    </tr>\n",
       "    <tr>\n",
       "      <td>4</td>\n",
       "      <td>Fully Paid</td>\n",
       "      <td>1</td>\n",
       "    </tr>\n",
       "  </tbody>\n",
       "</table>\n",
       "</div>"
      ],
      "text/plain": [
       "  Loan Status  Loan_val\n",
       "0  Fully Paid         1\n",
       "1  Fully Paid         1\n",
       "2  Fully Paid         1\n",
       "3  Fully Paid         1\n",
       "4  Fully Paid         1"
      ]
     },
     "execution_count": 52,
     "metadata": {},
     "output_type": "execute_result"
    }
   ],
   "source": [
    "df_srm['Loan_val'] = df_srm['Loan Status'].map(mapping_Loanstatus).astype(int)\n",
    "df_srm[['Loan Status', 'Loan_val']].head()"
   ]
  },
  {
   "cell_type": "code",
   "execution_count": 53,
   "metadata": {
    "colab": {},
    "colab_type": "code",
    "id": "x0UWyYxp7YSK"
   },
   "outputs": [
    {
     "name": "stderr",
     "output_type": "stream",
     "text": [
      "C:\\Users\\Gianmarco\\Anaconda3\\lib\\site-packages\\ipykernel_launcher.py:1: SettingWithCopyWarning: \n",
      "A value is trying to be set on a copy of a slice from a DataFrame.\n",
      "Try using .loc[row_indexer,col_indexer] = value instead\n",
      "\n",
      "See the caveats in the documentation: http://pandas.pydata.org/pandas-docs/stable/user_guide/indexing.html#returning-a-view-versus-a-copy\n",
      "  \"\"\"Entry point for launching an IPython kernel.\n"
     ]
    }
   ],
   "source": [
    "df_srm['Term'] = df['Term'].fillna(df['Term'].mode()[0])"
   ]
  },
  {
   "cell_type": "code",
   "execution_count": 54,
   "metadata": {
    "colab": {
     "base_uri": "https://localhost:8080/",
     "height": 35
    },
    "colab_type": "code",
    "id": "6c9D4Wey7PtX",
    "outputId": "7212a04e-c219-4990-e971-1728131fa872"
   },
   "outputs": [
    {
     "data": {
      "text/plain": [
       "array(['Short Term', 'Long Term'], dtype=object)"
      ]
     },
     "execution_count": 54,
     "metadata": {},
     "output_type": "execute_result"
    }
   ],
   "source": [
    "df_srm['Term'].unique()"
   ]
  },
  {
   "cell_type": "code",
   "execution_count": 55,
   "metadata": {
    "colab": {
     "base_uri": "https://localhost:8080/",
     "height": 35
    },
    "colab_type": "code",
    "id": "LIRi8Fu7C1Zo",
    "outputId": "2fd390b8-b603-4228-bf7e-711dcdf6dc1c"
   },
   "outputs": [
    {
     "data": {
      "text/plain": [
       "{'Long Term': 0, 'Short Term': 1}"
      ]
     },
     "execution_count": 55,
     "metadata": {},
     "output_type": "execute_result"
    }
   ],
   "source": [
    "Term_loc = sorted(df_srm[\"Term\"].unique())\n",
    "mapping_Term_Numerico = dict(zip(Term_loc, range(0, len(Term_loc)+1)))\n",
    "mapping_Term_Numerico"
   ]
  },
  {
   "cell_type": "code",
   "execution_count": 56,
   "metadata": {
    "colab": {
     "base_uri": "https://localhost:8080/",
     "height": 202
    },
    "colab_type": "code",
    "id": "X1ziUMLm25FE",
    "outputId": "c9ee74f8-f363-446d-e2fb-4f46571d2819"
   },
   "outputs": [
    {
     "name": "stderr",
     "output_type": "stream",
     "text": [
      "C:\\Users\\Gianmarco\\Anaconda3\\lib\\site-packages\\ipykernel_launcher.py:1: SettingWithCopyWarning: \n",
      "A value is trying to be set on a copy of a slice from a DataFrame.\n",
      "Try using .loc[row_indexer,col_indexer] = value instead\n",
      "\n",
      "See the caveats in the documentation: http://pandas.pydata.org/pandas-docs/stable/user_guide/indexing.html#returning-a-view-versus-a-copy\n",
      "  \"\"\"Entry point for launching an IPython kernel.\n"
     ]
    },
    {
     "data": {
      "text/html": [
       "<div>\n",
       "<style scoped>\n",
       "    .dataframe tbody tr th:only-of-type {\n",
       "        vertical-align: middle;\n",
       "    }\n",
       "\n",
       "    .dataframe tbody tr th {\n",
       "        vertical-align: top;\n",
       "    }\n",
       "\n",
       "    .dataframe thead th {\n",
       "        text-align: right;\n",
       "    }\n",
       "</style>\n",
       "<table border=\"1\" class=\"dataframe\">\n",
       "  <thead>\n",
       "    <tr style=\"text-align: right;\">\n",
       "      <th></th>\n",
       "      <th>Term</th>\n",
       "      <th>Term_loc</th>\n",
       "    </tr>\n",
       "  </thead>\n",
       "  <tbody>\n",
       "    <tr>\n",
       "      <td>0</td>\n",
       "      <td>Short Term</td>\n",
       "      <td>1</td>\n",
       "    </tr>\n",
       "    <tr>\n",
       "      <td>1</td>\n",
       "      <td>Short Term</td>\n",
       "      <td>1</td>\n",
       "    </tr>\n",
       "    <tr>\n",
       "      <td>2</td>\n",
       "      <td>Short Term</td>\n",
       "      <td>1</td>\n",
       "    </tr>\n",
       "    <tr>\n",
       "      <td>3</td>\n",
       "      <td>Long Term</td>\n",
       "      <td>0</td>\n",
       "    </tr>\n",
       "    <tr>\n",
       "      <td>4</td>\n",
       "      <td>Short Term</td>\n",
       "      <td>1</td>\n",
       "    </tr>\n",
       "  </tbody>\n",
       "</table>\n",
       "</div>"
      ],
      "text/plain": [
       "         Term  Term_loc\n",
       "0  Short Term         1\n",
       "1  Short Term         1\n",
       "2  Short Term         1\n",
       "3   Long Term         0\n",
       "4  Short Term         1"
      ]
     },
     "execution_count": 56,
     "metadata": {},
     "output_type": "execute_result"
    }
   ],
   "source": [
    "df_srm['Term_loc'] = df_srm['Term'].map(mapping_Term_Numerico).astype(int)\n",
    "df_srm[['Term', 'Term_loc']].head()"
   ]
  },
  {
   "cell_type": "code",
   "execution_count": 57,
   "metadata": {
    "colab": {},
    "colab_type": "code",
    "id": "XLNxi7WA8_Ff"
   },
   "outputs": [
    {
     "name": "stderr",
     "output_type": "stream",
     "text": [
      "C:\\Users\\Gianmarco\\Anaconda3\\lib\\site-packages\\ipykernel_launcher.py:1: SettingWithCopyWarning: \n",
      "A value is trying to be set on a copy of a slice from a DataFrame.\n",
      "Try using .loc[row_indexer,col_indexer] = value instead\n",
      "\n",
      "See the caveats in the documentation: http://pandas.pydata.org/pandas-docs/stable/user_guide/indexing.html#returning-a-view-versus-a-copy\n",
      "  \"\"\"Entry point for launching an IPython kernel.\n"
     ]
    }
   ],
   "source": [
    "df_srm['Home Ownership'] = df['Home Ownership'].fillna(df['Home Ownership'].mode()[0])"
   ]
  },
  {
   "cell_type": "code",
   "execution_count": 58,
   "metadata": {
    "colab": {
     "base_uri": "https://localhost:8080/",
     "height": 35
    },
    "colab_type": "code",
    "id": "SzLtPuLbC5td",
    "outputId": "2636bb21-4b77-40be-bccd-c2a1cc35e421"
   },
   "outputs": [
    {
     "data": {
      "text/plain": [
       "{'Home Mortgage': 0, 'Own Home': 1, 'Rent': 2}"
      ]
     },
     "execution_count": 58,
     "metadata": {},
     "output_type": "execute_result"
    }
   ],
   "source": [
    "Ownership_loc= sorted(df_srm[\"Home Ownership\"].unique())\n",
    "mapping_Ownership = dict(zip(Ownership_loc, range(0, len(Ownership_loc)+1)))\n",
    "mapping_Ownership\n"
   ]
  },
  {
   "cell_type": "code",
   "execution_count": 59,
   "metadata": {
    "colab": {
     "base_uri": "https://localhost:8080/",
     "height": 202
    },
    "colab_type": "code",
    "id": "0Zlco_wi2jKw",
    "outputId": "a8258360-78d8-47aa-ff82-92169579e6ce"
   },
   "outputs": [
    {
     "name": "stderr",
     "output_type": "stream",
     "text": [
      "C:\\Users\\Gianmarco\\Anaconda3\\lib\\site-packages\\ipykernel_launcher.py:1: SettingWithCopyWarning: \n",
      "A value is trying to be set on a copy of a slice from a DataFrame.\n",
      "Try using .loc[row_indexer,col_indexer] = value instead\n",
      "\n",
      "See the caveats in the documentation: http://pandas.pydata.org/pandas-docs/stable/user_guide/indexing.html#returning-a-view-versus-a-copy\n",
      "  \"\"\"Entry point for launching an IPython kernel.\n"
     ]
    },
    {
     "data": {
      "text/html": [
       "<div>\n",
       "<style scoped>\n",
       "    .dataframe tbody tr th:only-of-type {\n",
       "        vertical-align: middle;\n",
       "    }\n",
       "\n",
       "    .dataframe tbody tr th {\n",
       "        vertical-align: top;\n",
       "    }\n",
       "\n",
       "    .dataframe thead th {\n",
       "        text-align: right;\n",
       "    }\n",
       "</style>\n",
       "<table border=\"1\" class=\"dataframe\">\n",
       "  <thead>\n",
       "    <tr style=\"text-align: right;\">\n",
       "      <th></th>\n",
       "      <th>Home Ownership</th>\n",
       "      <th>Ownership_val</th>\n",
       "    </tr>\n",
       "  </thead>\n",
       "  <tbody>\n",
       "    <tr>\n",
       "      <td>0</td>\n",
       "      <td>Home Mortgage</td>\n",
       "      <td>0</td>\n",
       "    </tr>\n",
       "    <tr>\n",
       "      <td>1</td>\n",
       "      <td>Home Mortgage</td>\n",
       "      <td>0</td>\n",
       "    </tr>\n",
       "    <tr>\n",
       "      <td>2</td>\n",
       "      <td>Own Home</td>\n",
       "      <td>1</td>\n",
       "    </tr>\n",
       "    <tr>\n",
       "      <td>3</td>\n",
       "      <td>Own Home</td>\n",
       "      <td>1</td>\n",
       "    </tr>\n",
       "    <tr>\n",
       "      <td>4</td>\n",
       "      <td>Rent</td>\n",
       "      <td>2</td>\n",
       "    </tr>\n",
       "  </tbody>\n",
       "</table>\n",
       "</div>"
      ],
      "text/plain": [
       "  Home Ownership  Ownership_val\n",
       "0  Home Mortgage              0\n",
       "1  Home Mortgage              0\n",
       "2       Own Home              1\n",
       "3       Own Home              1\n",
       "4           Rent              2"
      ]
     },
     "execution_count": 59,
     "metadata": {},
     "output_type": "execute_result"
    }
   ],
   "source": [
    "df_srm['Ownership_val'] = df_srm['Home Ownership'].map(mapping_Ownership).astype(int)\n",
    "df_srm[['Home Ownership', 'Ownership_val']].head()"
   ]
  },
  {
   "cell_type": "code",
   "execution_count": 60,
   "metadata": {
    "colab": {},
    "colab_type": "code",
    "id": "7XLGO-MH-DO-"
   },
   "outputs": [],
   "source": [
    "df['Purpose'] = df['Purpose'].fillna(df['Purpose'].mode()[0])"
   ]
  },
  {
   "cell_type": "code",
   "execution_count": 61,
   "metadata": {
    "colab": {
     "base_uri": "https://localhost:8080/",
     "height": 104
    },
    "colab_type": "code",
    "id": "K5z509s8_mSa",
    "outputId": "babe4f04-498d-4153-8c82-e6fe8137b309"
   },
   "outputs": [
    {
     "data": {
      "text/plain": [
       "array(['Home Improvements', 'Debt Consolidation', 'Buy House', 'Other',\n",
       "       'Business Loan', 'Buy a Car', 'major_purchase', 'Take a Trip',\n",
       "       'small_business', 'Medical Bills', 'wedding', 'vacation',\n",
       "       'Educational Expenses', 'moving', 'renewable_energy'], dtype=object)"
      ]
     },
     "execution_count": 61,
     "metadata": {},
     "output_type": "execute_result"
    }
   ],
   "source": [
    "df_srm['Purpose'].unique()"
   ]
  },
  {
   "cell_type": "code",
   "execution_count": 62,
   "metadata": {
    "colab": {
     "base_uri": "https://localhost:8080/",
     "height": 201
    },
    "colab_type": "code",
    "id": "E8yqjqgbDQdV",
    "outputId": "570440e9-86ad-4b31-f0e2-82839bddf260"
   },
   "outputs": [
    {
     "data": {
      "text/plain": [
       "{'Business Loan': 0,\n",
       " 'Buy House': 1,\n",
       " 'Buy a Car': 2,\n",
       " 'Debt Consolidation': 3,\n",
       " 'Educational Expenses': 4,\n",
       " 'Home Improvements': 5,\n",
       " 'Medical Bills': 6,\n",
       " 'Other': 7,\n",
       " 'Take a Trip': 8,\n",
       " 'major_purchase': 9,\n",
       " 'moving': 10,\n",
       " 'renewable_energy': 11,\n",
       " 'small_business': 12,\n",
       " 'vacation': 13,\n",
       " 'wedding': 14}"
      ]
     },
     "execution_count": 62,
     "metadata": {},
     "output_type": "execute_result"
    }
   ],
   "source": [
    "Purpose_loc= sorted(df_srm[\"Purpose\"].unique())\n",
    "mapping_Purpose= dict(zip(Purpose_loc, range(0, len(Purpose_loc)+1)))\n",
    "mapping_Purpose"
   ]
  },
  {
   "cell_type": "code",
   "execution_count": 63,
   "metadata": {
    "colab": {
     "base_uri": "https://localhost:8080/",
     "height": 306
    },
    "colab_type": "code",
    "id": "KiBOx0Q614gS",
    "outputId": "324dcad5-2af1-4076-d987-22ff53cf58fb"
   },
   "outputs": [
    {
     "name": "stderr",
     "output_type": "stream",
     "text": [
      "C:\\Users\\Gianmarco\\Anaconda3\\lib\\site-packages\\ipykernel_launcher.py:1: SettingWithCopyWarning: \n",
      "A value is trying to be set on a copy of a slice from a DataFrame.\n",
      "Try using .loc[row_indexer,col_indexer] = value instead\n",
      "\n",
      "See the caveats in the documentation: http://pandas.pydata.org/pandas-docs/stable/user_guide/indexing.html#returning-a-view-versus-a-copy\n",
      "  \"\"\"Entry point for launching an IPython kernel.\n"
     ]
    },
    {
     "data": {
      "text/html": [
       "<div>\n",
       "<style scoped>\n",
       "    .dataframe tbody tr th:only-of-type {\n",
       "        vertical-align: middle;\n",
       "    }\n",
       "\n",
       "    .dataframe tbody tr th {\n",
       "        vertical-align: top;\n",
       "    }\n",
       "\n",
       "    .dataframe thead th {\n",
       "        text-align: right;\n",
       "    }\n",
       "</style>\n",
       "<table border=\"1\" class=\"dataframe\">\n",
       "  <thead>\n",
       "    <tr style=\"text-align: right;\">\n",
       "      <th></th>\n",
       "      <th>Purpose</th>\n",
       "      <th>Purpose_val</th>\n",
       "    </tr>\n",
       "  </thead>\n",
       "  <tbody>\n",
       "    <tr>\n",
       "      <td>0</td>\n",
       "      <td>Home Improvements</td>\n",
       "      <td>5</td>\n",
       "    </tr>\n",
       "    <tr>\n",
       "      <td>1</td>\n",
       "      <td>Debt Consolidation</td>\n",
       "      <td>3</td>\n",
       "    </tr>\n",
       "    <tr>\n",
       "      <td>2</td>\n",
       "      <td>Debt Consolidation</td>\n",
       "      <td>3</td>\n",
       "    </tr>\n",
       "    <tr>\n",
       "      <td>3</td>\n",
       "      <td>Debt Consolidation</td>\n",
       "      <td>3</td>\n",
       "    </tr>\n",
       "    <tr>\n",
       "      <td>4</td>\n",
       "      <td>Debt Consolidation</td>\n",
       "      <td>3</td>\n",
       "    </tr>\n",
       "  </tbody>\n",
       "</table>\n",
       "</div>"
      ],
      "text/plain": [
       "              Purpose  Purpose_val\n",
       "0   Home Improvements            5\n",
       "1  Debt Consolidation            3\n",
       "2  Debt Consolidation            3\n",
       "3  Debt Consolidation            3\n",
       "4  Debt Consolidation            3"
      ]
     },
     "execution_count": 63,
     "metadata": {},
     "output_type": "execute_result"
    }
   ],
   "source": [
    "df_srm['Purpose_val'] = df_srm['Purpose'].map(mapping_Purpose).astype(int)\n",
    "df_srm[['Purpose', 'Purpose_val']].head()"
   ]
  },
  {
   "cell_type": "code",
   "execution_count": 64,
   "metadata": {
    "colab": {
     "base_uri": "https://localhost:8080/",
     "height": 204
    },
    "colab_type": "code",
    "id": "bLwOcFRovSr9",
    "outputId": "268c65da-f16d-4d1f-cca4-0724dff579f2"
   },
   "outputs": [
    {
     "data": {
      "text/plain": [
       "{'8 years': 0,\n",
       " '10+ years': 1,\n",
       " '3 years': 2,\n",
       " '5 years': 3,\n",
       " '< 1 year': 4,\n",
       " '2 years': 5,\n",
       " '4 years': 6,\n",
       " '9 years': 7,\n",
       " '7 years': 8,\n",
       " '1 year': 9,\n",
       " '6 years': 10}"
      ]
     },
     "execution_count": 64,
     "metadata": {},
     "output_type": "execute_result"
    }
   ],
   "source": [
    "Job_loc= (df_srm[\"Years in current job\"].unique()) #sorted\n",
    "Job_numerico= dict(zip(Job_loc, range(0, len(Job_loc)+1)))\n",
    "Job_numerico"
   ]
  },
  {
   "cell_type": "code",
   "execution_count": 65,
   "metadata": {
    "colab": {
     "base_uri": "https://localhost:8080/",
     "height": 306
    },
    "colab_type": "code",
    "id": "uJc_tx264gV8",
    "outputId": "cb18808c-159d-45eb-b9a6-338ff9a266c6"
   },
   "outputs": [
    {
     "name": "stderr",
     "output_type": "stream",
     "text": [
      "C:\\Users\\Gianmarco\\Anaconda3\\lib\\site-packages\\ipykernel_launcher.py:1: SettingWithCopyWarning: \n",
      "A value is trying to be set on a copy of a slice from a DataFrame.\n",
      "Try using .loc[row_indexer,col_indexer] = value instead\n",
      "\n",
      "See the caveats in the documentation: http://pandas.pydata.org/pandas-docs/stable/user_guide/indexing.html#returning-a-view-versus-a-copy\n",
      "  \"\"\"Entry point for launching an IPython kernel.\n"
     ]
    },
    {
     "data": {
      "text/html": [
       "<div>\n",
       "<style scoped>\n",
       "    .dataframe tbody tr th:only-of-type {\n",
       "        vertical-align: middle;\n",
       "    }\n",
       "\n",
       "    .dataframe tbody tr th {\n",
       "        vertical-align: top;\n",
       "    }\n",
       "\n",
       "    .dataframe thead th {\n",
       "        text-align: right;\n",
       "    }\n",
       "</style>\n",
       "<table border=\"1\" class=\"dataframe\">\n",
       "  <thead>\n",
       "    <tr style=\"text-align: right;\">\n",
       "      <th></th>\n",
       "      <th>Years in current job</th>\n",
       "      <th>Job_val</th>\n",
       "    </tr>\n",
       "  </thead>\n",
       "  <tbody>\n",
       "    <tr>\n",
       "      <td>0</td>\n",
       "      <td>8 years</td>\n",
       "      <td>0</td>\n",
       "    </tr>\n",
       "    <tr>\n",
       "      <td>1</td>\n",
       "      <td>10+ years</td>\n",
       "      <td>1</td>\n",
       "    </tr>\n",
       "    <tr>\n",
       "      <td>2</td>\n",
       "      <td>8 years</td>\n",
       "      <td>0</td>\n",
       "    </tr>\n",
       "    <tr>\n",
       "      <td>3</td>\n",
       "      <td>3 years</td>\n",
       "      <td>2</td>\n",
       "    </tr>\n",
       "    <tr>\n",
       "      <td>4</td>\n",
       "      <td>5 years</td>\n",
       "      <td>3</td>\n",
       "    </tr>\n",
       "  </tbody>\n",
       "</table>\n",
       "</div>"
      ],
      "text/plain": [
       "  Years in current job  Job_val\n",
       "0              8 years        0\n",
       "1            10+ years        1\n",
       "2              8 years        0\n",
       "3              3 years        2\n",
       "4              5 years        3"
      ]
     },
     "execution_count": 65,
     "metadata": {},
     "output_type": "execute_result"
    }
   ],
   "source": [
    "df_srm['Job_val'] = df_srm['Years in current job'].map(Job_numerico).astype(int)\n",
    "df_srm[['Years in current job', 'Job_val']].head()"
   ]
  },
  {
   "cell_type": "code",
   "execution_count": 66,
   "metadata": {
    "colab": {
     "base_uri": "https://localhost:8080/",
     "height": 283
    },
    "colab_type": "code",
    "id": "QtAY8_abPORj",
    "outputId": "2125ad27-b343-4456-8b7d-62be8aceb4b7"
   },
   "outputs": [
    {
     "data": {
      "image/png": "[encoded data removed]",
      "text/plain": [
       "<Figure size 432x288 with 9 Axes>"
      ]
     },
     "metadata": {
      "needs_background": "light"
     },
     "output_type": "display_data"
    }
   ],
   "source": [
    "\n",
    "pd.plotting.scatter_matrix(df_srm[['Purpose_val', 'Ownership_val', 'Loan_val']])\n",
    "plt.show()  #vorrei vedere la correlazione fra questi nuovi attributi ma non riesco"
   ]
  },
  {
   "cell_type": "code",
   "execution_count": 67,
   "metadata": {
    "colab": {
     "base_uri": "https://localhost:8080/",
     "height": 119
    },
    "colab_type": "code",
    "id": "Qw7nBlfpBxpw",
    "outputId": "a76a60fc-1bbe-4d5d-ec6b-7d04911a40cb"
   },
   "outputs": [
    {
     "data": {
      "text/plain": [
       "1985     Fully Paid\n",
       "3498     Fully Paid\n",
       "3917     Fully Paid\n",
       "5501    Charged Off\n",
       "7573     Fully Paid\n",
       "Name: Loan Status, dtype: object"
      ]
     },
     "execution_count": 67,
     "metadata": {},
     "output_type": "execute_result"
    }
   ],
   "source": [
    "df_srm[df_srm['Monthly Debt'] == 0]['Loan Status'].head()"
   ]
  },
  {
   "cell_type": "markdown",
   "metadata": {
    "colab_type": "text",
    "id": "16jZp1LDJ8g-"
   },
   "source": [
    "# **Handling** **Outliers**"
   ]
  },
  {
   "cell_type": "code",
   "execution_count": 0,
   "metadata": {
    "colab": {},
    "colab_type": "code",
    "id": "cqXtjGPBNqBO"
   },
   "outputs": [],
   "source": [
    "#ci sono outliers ovunque!!!!!!! #fra i vari modi per sostituirli ci sono: eliminazione,traformazione delle variabili(Normalizzare con natural log o binning)"
   ]
  },
  {
   "cell_type": "code",
   "execution_count": 68,
   "metadata": {
    "colab": {
     "base_uri": "https://localhost:8080/",
     "height": 901
    },
    "colab_type": "code",
    "id": "wwpQACPeEdq1",
    "outputId": "9261bb2a-c5ef-4946-8b33-a71359e10007"
   },
   "outputs": [
    {
     "data": {
      "text/plain": [
       "9.0     9360\n",
       "10.0    9012\n",
       "8.0     8792\n",
       "11.0    8601\n",
       "7.0     8090\n",
       "12.0    7461\n",
       "6.0     6731\n",
       "13.0    6280\n",
       "14.0    5194\n",
       "5.0     4742\n",
       "15.0    4268\n",
       "16.0    3502\n",
       "17.0    2857\n",
       "4.0     2849\n",
       "18.0    2222\n",
       "19.0    1883\n",
       "20.0    1423\n",
       "3.0     1364\n",
       "21.0    1104\n",
       "22.0     828\n",
       "23.0     679\n",
       "24.0     550\n",
       "2.0      448\n",
       "25.0     418\n",
       "26.0     274\n",
       "27.0     270\n",
       "28.0     162\n",
       "29.0     125\n",
       "30.0     109\n",
       "31.0      76\n",
       "32.0      64\n",
       "33.0      56\n",
       "34.0      41\n",
       "36.0      25\n",
       "1.0       25\n",
       "35.0      21\n",
       "37.0      16\n",
       "38.0      13\n",
       "43.0      10\n",
       "40.0       9\n",
       "39.0       8\n",
       "41.0       7\n",
       "45.0       6\n",
       "42.0       5\n",
       "44.0       5\n",
       "48.0       4\n",
       "47.0       3\n",
       "56.0       2\n",
       "52.0       2\n",
       "0.0        2\n",
       "76.0       2\n",
       "Name: Number of Open Accounts, dtype: int64"
      ]
     },
     "execution_count": 68,
     "metadata": {},
     "output_type": "execute_result"
    }
   ],
   "source": [
    "df_srm[\"Number of Open Accounts\"].value_counts() #siccome ci sono outliers dal 40 in poi li comprimiamo e usiamo la media."
   ]
  },
  {
   "cell_type": "code",
   "execution_count": 69,
   "metadata": {
    "colab": {
     "base_uri": "https://localhost:8080/",
     "height": 221
    },
    "colab_type": "code",
    "id": "c5OrSohBsKrP",
    "outputId": "e364de24-33c4-499c-8dae-b54f246fcafe"
   },
   "outputs": [
    {
     "data": {
      "text/plain": [
       "99999999.0    11484\n",
       "223322.0         27\n",
       "223102.0         27\n",
       "223652.0         27\n",
       "216194.0         27\n",
       "              ...  \n",
       "602008.0          1\n",
       "457864.0          1\n",
       "601986.0          1\n",
       "95216.0           1\n",
       "114686.0          1\n",
       "Name: Current Loan Amount, Length: 22004, dtype: int64"
      ]
     },
     "execution_count": 69,
     "metadata": {},
     "output_type": "execute_result"
    }
   ],
   "source": [
    "df_srm[\"Current Loan Amount\"].value_counts()"
   ]
  },
  {
   "cell_type": "markdown",
   "metadata": {
    "colab_type": "text",
    "id": "4z4kM1zPMP-I"
   },
   "source": [
    "## **Distribuzione delle variabili**"
   ]
  },
  {
   "cell_type": "code",
   "execution_count": 31,
   "metadata": {
    "colab": {
     "base_uri": "https://localhost:8080/",
     "height": 265
    },
    "colab_type": "code",
    "id": "8Y7OaIHqE-ri",
    "outputId": "9048f726-420d-4a94-9ff1-41c0cd8032e0"
   },
   "outputs": [
    {
     "data": {
      "image/png": "[encoded data removed]",
      "text/plain": [
       "<Figure size 432x288 with 1 Axes>"
      ]
     },
     "metadata": {
      "needs_background": "light"
     },
     "output_type": "display_data"
    }
   ],
   "source": [
    "boxplot = df_srm.boxplot(column=['Monthly Debt'])"
   ]
  },
  {
   "cell_type": "code",
   "execution_count": 32,
   "metadata": {
    "colab": {
     "base_uri": "https://localhost:8080/",
     "height": 276
    },
    "colab_type": "code",
    "id": "22FyzZyZJZvB",
    "outputId": "004017c1-bb65-42ec-e238-d7f9f3aec51b"
   },
   "outputs": [
    {
     "data": {
      "image/png": "[encoded data removed]",
      "text/plain": [
       "<Figure size 432x288 with 1 Axes>"
      ]
     },
     "metadata": {
      "needs_background": "light"
     },
     "output_type": "display_data"
    }
   ],
   "source": [
    "boxplot = df_srm.boxplot(column=['Current Loan Amount']) #???"
   ]
  },
  {
   "cell_type": "code",
   "execution_count": 33,
   "metadata": {
    "colab": {
     "base_uri": "https://localhost:8080/",
     "height": 276
    },
    "colab_type": "code",
    "id": "0DbmRDftJmtA",
    "outputId": "38264092-2a69-4057-f0ec-5a751233822f"
   },
   "outputs": [
    {
     "data": {
      "image/png": "[encoded data removed]",
      "text/plain": [
       "<Figure size 432x288 with 1 Axes>"
      ]
     },
     "metadata": {
      "needs_background": "light"
     },
     "output_type": "display_data"
    }
   ],
   "source": [
    "boxplot = df_srm.boxplot(column=['Annual Income'])"
   ]
  },
  {
   "cell_type": "code",
   "execution_count": 34,
   "metadata": {
    "colab": {
     "base_uri": "https://localhost:8080/",
     "height": 265
    },
    "colab_type": "code",
    "id": "tLG44PAUJuQX",
    "outputId": "df9afff0-ffe6-4c4b-8781-292f50176d1f"
   },
   "outputs": [
    {
     "data": {
      "image/png": "[encoded data removed]",
      "text/plain": [
       "<Figure size 432x288 with 1 Axes>"
      ]
     },
     "metadata": {
      "needs_background": "light"
     },
     "output_type": "display_data"
    }
   ],
   "source": [
    "boxplot = df_srm.boxplot(column=['Years of Credit History'])"
   ]
  },
  {
   "cell_type": "code",
   "execution_count": 35,
   "metadata": {
    "colab": {
     "base_uri": "https://localhost:8080/",
     "height": 265
    },
    "colab_type": "code",
    "id": "AATYa18fKrYS",
    "outputId": "530b700b-aa72-48e8-de46-f31ab666c3ee"
   },
   "outputs": [
    {
     "data": {
      "image/png": "[encoded data removed]",
      "text/plain": [
       "<Figure size 432x288 with 1 Axes>"
      ]
     },
     "metadata": {
      "needs_background": "light"
     },
     "output_type": "display_data"
    }
   ],
   "source": [
    "boxplot = df_srm.boxplot(column=['Number of Open Accounts'])"
   ]
  },
  {
   "cell_type": "code",
   "execution_count": 36,
   "metadata": {
    "colab": {
     "base_uri": "https://localhost:8080/",
     "height": 276
    },
    "colab_type": "code",
    "id": "M66FsHGILEnp",
    "outputId": "25d12e39-2c3e-46f4-b56c-62400f04ddde"
   },
   "outputs": [
    {
     "data": {
      "image/png": "[encoded data removed]",
      "text/plain": [
       "<Figure size 432x288 with 1 Axes>"
      ]
     },
     "metadata": {
      "needs_background": "light"
     },
     "output_type": "display_data"
    }
   ],
   "source": [
    "boxplot = df_srm.boxplot(column=['Current Credit Balance'])"
   ]
  },
  {
   "cell_type": "code",
   "execution_count": 37,
   "metadata": {
    "colab": {
     "base_uri": "https://localhost:8080/",
     "height": 276
    },
    "colab_type": "code",
    "id": "qphbbQpWLTKV",
    "outputId": "2c010bfd-8494-457c-9b7f-ea01453d1fc7"
   },
   "outputs": [
    {
     "data": {
      "image/png": "[encoded data removed]",
      "text/plain": [
       "<Figure size 432x288 with 1 Axes>"
      ]
     },
     "metadata": {
      "needs_background": "light"
     },
     "output_type": "display_data"
    }
   ],
   "source": [
    "boxplot = df_srm.boxplot(column=['Maximum Open Credit'])"
   ]
  },
  {
   "cell_type": "code",
   "execution_count": 38,
   "metadata": {
    "colab": {
     "base_uri": "https://localhost:8080/",
     "height": 265
    },
    "colab_type": "code",
    "id": "Uvuti5qDLcOX",
    "outputId": "e7857dc0-5d79-485e-f745-4b17e999f421"
   },
   "outputs": [
    {
     "data": {
      "image/png": "[encoded data removed]",
      "text/plain": [
       "<Figure size 432x288 with 1 Axes>"
      ]
     },
     "metadata": {
      "needs_background": "light"
     },
     "output_type": "display_data"
    }
   ],
   "source": [
    "boxplot = df_srm.boxplot(column=['Bankruptcies'])"
   ]
  },
  {
   "cell_type": "code",
   "execution_count": 39,
   "metadata": {
    "colab": {
     "base_uri": "https://localhost:8080/",
     "height": 276
    },
    "colab_type": "code",
    "id": "5S8Ti5heL11U",
    "outputId": "6ba207e1-6c49-4f71-8772-def3669413f6"
   },
   "outputs": [
    {
     "data": {
      "image/png": "[encoded data removed]",
      "text/plain": [
       "<Figure size 432x288 with 1 Axes>"
      ]
     },
     "metadata": {
      "needs_background": "light"
     },
     "output_type": "display_data"
    }
   ],
   "source": [
    "boxplot = df_srm.boxplot(column=['Current Loan Amount'])"
   ]
  },
  {
   "cell_type": "markdown",
   "metadata": {
    "colab_type": "text",
    "id": "vtD6LWqNScev"
   },
   "source": [
    "# ***Creazione nuovo dataset***"
   ]
  },
  {
   "cell_type": "code",
   "execution_count": 131,
   "metadata": {},
   "outputs": [
    {
     "data": {
      "text/html": [
       "<div>\n",
       "<style scoped>\n",
       "    .dataframe tbody tr th:only-of-type {\n",
       "        vertical-align: middle;\n",
       "    }\n",
       "\n",
       "    .dataframe tbody tr th {\n",
       "        vertical-align: top;\n",
       "    }\n",
       "\n",
       "    .dataframe thead th {\n",
       "        text-align: right;\n",
       "    }\n",
       "</style>\n",
       "<table border=\"1\" class=\"dataframe\">\n",
       "  <thead>\n",
       "    <tr style=\"text-align: right;\">\n",
       "      <th></th>\n",
       "      <th>Loan ID</th>\n",
       "      <th>Customer ID</th>\n",
       "      <th>Loan Status</th>\n",
       "      <th>Current Loan Amount</th>\n",
       "      <th>Term</th>\n",
       "      <th>Credit Score</th>\n",
       "      <th>Annual Income</th>\n",
       "      <th>Years in current job</th>\n",
       "      <th>Home Ownership</th>\n",
       "      <th>Purpose</th>\n",
       "      <th>...</th>\n",
       "      <th>Number of Credit Problems</th>\n",
       "      <th>Current Credit Balance</th>\n",
       "      <th>Maximum Open Credit</th>\n",
       "      <th>Bankruptcies</th>\n",
       "      <th>Tax Liens</th>\n",
       "      <th>Loan_val</th>\n",
       "      <th>Term_loc</th>\n",
       "      <th>Ownership_val</th>\n",
       "      <th>Purpose_val</th>\n",
       "      <th>Job_val</th>\n",
       "    </tr>\n",
       "  </thead>\n",
       "  <tbody>\n",
       "    <tr>\n",
       "      <td>0</td>\n",
       "      <td>14dd8831-6af5-400b-83ec-68e61888a048</td>\n",
       "      <td>981165ec-3274-42f5-a3b4-d104041a9ca9</td>\n",
       "      <td>Fully Paid</td>\n",
       "      <td>445412.0</td>\n",
       "      <td>Short Term</td>\n",
       "      <td>709.000000</td>\n",
       "      <td>1.167493e+06</td>\n",
       "      <td>8 years</td>\n",
       "      <td>Home Mortgage</td>\n",
       "      <td>Home Improvements</td>\n",
       "      <td>...</td>\n",
       "      <td>1.0</td>\n",
       "      <td>228190.0</td>\n",
       "      <td>416746.0</td>\n",
       "      <td>1.0</td>\n",
       "      <td>0.0</td>\n",
       "      <td>1</td>\n",
       "      <td>1</td>\n",
       "      <td>0</td>\n",
       "      <td>5</td>\n",
       "      <td>0</td>\n",
       "    </tr>\n",
       "    <tr>\n",
       "      <td>1</td>\n",
       "      <td>4771cc26-131a-45db-b5aa-537ea4ba5342</td>\n",
       "      <td>2de017a3-2e01-49cb-a581-08169e83be29</td>\n",
       "      <td>Fully Paid</td>\n",
       "      <td>262328.0</td>\n",
       "      <td>Short Term</td>\n",
       "      <td>1076.456089</td>\n",
       "      <td>1.378277e+06</td>\n",
       "      <td>10+ years</td>\n",
       "      <td>Home Mortgage</td>\n",
       "      <td>Debt Consolidation</td>\n",
       "      <td>...</td>\n",
       "      <td>0.0</td>\n",
       "      <td>229976.0</td>\n",
       "      <td>850784.0</td>\n",
       "      <td>0.0</td>\n",
       "      <td>0.0</td>\n",
       "      <td>1</td>\n",
       "      <td>1</td>\n",
       "      <td>0</td>\n",
       "      <td>3</td>\n",
       "      <td>1</td>\n",
       "    </tr>\n",
       "    <tr>\n",
       "      <td>2</td>\n",
       "      <td>4eed4e6a-aa2f-4c91-8651-ce984ee8fb26</td>\n",
       "      <td>5efb2b2b-bf11-4dfd-a572-3761a2694725</td>\n",
       "      <td>Fully Paid</td>\n",
       "      <td>99999999.0</td>\n",
       "      <td>Short Term</td>\n",
       "      <td>741.000000</td>\n",
       "      <td>2.231892e+06</td>\n",
       "      <td>8 years</td>\n",
       "      <td>Own Home</td>\n",
       "      <td>Debt Consolidation</td>\n",
       "      <td>...</td>\n",
       "      <td>1.0</td>\n",
       "      <td>297996.0</td>\n",
       "      <td>750090.0</td>\n",
       "      <td>0.0</td>\n",
       "      <td>0.0</td>\n",
       "      <td>1</td>\n",
       "      <td>1</td>\n",
       "      <td>1</td>\n",
       "      <td>3</td>\n",
       "      <td>0</td>\n",
       "    </tr>\n",
       "    <tr>\n",
       "      <td>3</td>\n",
       "      <td>77598f7b-32e7-4e3b-a6e5-06ba0d98fe8a</td>\n",
       "      <td>e777faab-98ae-45af-9a86-7ce5b33b1011</td>\n",
       "      <td>Fully Paid</td>\n",
       "      <td>347666.0</td>\n",
       "      <td>Long Term</td>\n",
       "      <td>721.000000</td>\n",
       "      <td>8.069490e+05</td>\n",
       "      <td>3 years</td>\n",
       "      <td>Own Home</td>\n",
       "      <td>Debt Consolidation</td>\n",
       "      <td>...</td>\n",
       "      <td>0.0</td>\n",
       "      <td>256329.0</td>\n",
       "      <td>386958.0</td>\n",
       "      <td>0.0</td>\n",
       "      <td>0.0</td>\n",
       "      <td>1</td>\n",
       "      <td>0</td>\n",
       "      <td>1</td>\n",
       "      <td>3</td>\n",
       "      <td>2</td>\n",
       "    </tr>\n",
       "    <tr>\n",
       "      <td>4</td>\n",
       "      <td>d4062e70-befa-4995-8643-a0de73938182</td>\n",
       "      <td>81536ad9-5ccf-4eb8-befb-47a4d608658e</td>\n",
       "      <td>Fully Paid</td>\n",
       "      <td>176220.0</td>\n",
       "      <td>Short Term</td>\n",
       "      <td>1076.456089</td>\n",
       "      <td>1.378277e+06</td>\n",
       "      <td>5 years</td>\n",
       "      <td>Rent</td>\n",
       "      <td>Debt Consolidation</td>\n",
       "      <td>...</td>\n",
       "      <td>0.0</td>\n",
       "      <td>253460.0</td>\n",
       "      <td>427174.0</td>\n",
       "      <td>0.0</td>\n",
       "      <td>0.0</td>\n",
       "      <td>1</td>\n",
       "      <td>1</td>\n",
       "      <td>2</td>\n",
       "      <td>3</td>\n",
       "      <td>3</td>\n",
       "    </tr>\n",
       "  </tbody>\n",
       "</table>\n",
       "<p>5 rows × 24 columns</p>\n",
       "</div>"
      ],
      "text/plain": [
       "                                Loan ID                           Customer ID  \\\n",
       "0  14dd8831-6af5-400b-83ec-68e61888a048  981165ec-3274-42f5-a3b4-d104041a9ca9   \n",
       "1  4771cc26-131a-45db-b5aa-537ea4ba5342  2de017a3-2e01-49cb-a581-08169e83be29   \n",
       "2  4eed4e6a-aa2f-4c91-8651-ce984ee8fb26  5efb2b2b-bf11-4dfd-a572-3761a2694725   \n",
       "3  77598f7b-32e7-4e3b-a6e5-06ba0d98fe8a  e777faab-98ae-45af-9a86-7ce5b33b1011   \n",
       "4  d4062e70-befa-4995-8643-a0de73938182  81536ad9-5ccf-4eb8-befb-47a4d608658e   \n",
       "\n",
       "  Loan Status  Current Loan Amount        Term  Credit Score  Annual Income  \\\n",
       "0  Fully Paid             445412.0  Short Term    709.000000   1.167493e+06   \n",
       "1  Fully Paid             262328.0  Short Term   1076.456089   1.378277e+06   \n",
       "2  Fully Paid           99999999.0  Short Term    741.000000   2.231892e+06   \n",
       "3  Fully Paid             347666.0   Long Term    721.000000   8.069490e+05   \n",
       "4  Fully Paid             176220.0  Short Term   1076.456089   1.378277e+06   \n",
       "\n",
       "  Years in current job Home Ownership             Purpose  ...  \\\n",
       "0              8 years  Home Mortgage   Home Improvements  ...   \n",
       "1            10+ years  Home Mortgage  Debt Consolidation  ...   \n",
       "2              8 years       Own Home  Debt Consolidation  ...   \n",
       "3              3 years       Own Home  Debt Consolidation  ...   \n",
       "4              5 years           Rent  Debt Consolidation  ...   \n",
       "\n",
       "   Number of Credit Problems  Current Credit Balance  Maximum Open Credit  \\\n",
       "0                        1.0                228190.0             416746.0   \n",
       "1                        0.0                229976.0             850784.0   \n",
       "2                        1.0                297996.0             750090.0   \n",
       "3                        0.0                256329.0             386958.0   \n",
       "4                        0.0                253460.0             427174.0   \n",
       "\n",
       "   Bankruptcies  Tax Liens  Loan_val  Term_loc  Ownership_val  Purpose_val  \\\n",
       "0           1.0        0.0         1         1              0            5   \n",
       "1           0.0        0.0         1         1              0            3   \n",
       "2           0.0        0.0         1         1              1            3   \n",
       "3           0.0        0.0         1         0              1            3   \n",
       "4           0.0        0.0         1         1              2            3   \n",
       "\n",
       "   Job_val  \n",
       "0        0  \n",
       "1        1  \n",
       "2        0  \n",
       "3        2  \n",
       "4        3  \n",
       "\n",
       "[5 rows x 24 columns]"
      ]
     },
     "execution_count": 131,
     "metadata": {},
     "output_type": "execute_result"
    }
   ],
   "source": [
    "df_srm.head()"
   ]
  },
  {
   "cell_type": "code",
   "execution_count": 132,
   "metadata": {
    "colab": {},
    "colab_type": "code",
    "id": "BWubURKRN0KY"
   },
   "outputs": [],
   "source": [
    "nuovo_df=df_srm.copy() #nel nuovo dataset ho tolto gli ID e la colonna Months since last delinquent e tutte le variabili categoriche.\n",
    "nuovo_df.drop(df_srm.columns[[0,1,2,4,7,8,9,12,16,17,18,19,20]], axis=\"columns\",  inplace=True) \n"
   ]
  },
  {
   "cell_type": "code",
   "execution_count": 133,
   "metadata": {
    "colab": {
     "base_uri": "https://localhost:8080/",
     "height": 221
    },
    "colab_type": "code",
    "id": "GRAHYJu8UV5N",
    "outputId": "6a8f47fc-073c-41bd-c4c1-2e57a92d4677"
   },
   "outputs": [
    {
     "data": {
      "text/html": [
       "<div>\n",
       "<style scoped>\n",
       "    .dataframe tbody tr th:only-of-type {\n",
       "        vertical-align: middle;\n",
       "    }\n",
       "\n",
       "    .dataframe tbody tr th {\n",
       "        vertical-align: top;\n",
       "    }\n",
       "\n",
       "    .dataframe thead th {\n",
       "        text-align: right;\n",
       "    }\n",
       "</style>\n",
       "<table border=\"1\" class=\"dataframe\">\n",
       "  <thead>\n",
       "    <tr style=\"text-align: right;\">\n",
       "      <th></th>\n",
       "      <th>Current Loan Amount</th>\n",
       "      <th>Credit Score</th>\n",
       "      <th>Annual Income</th>\n",
       "      <th>Monthly Debt</th>\n",
       "      <th>Years of Credit History</th>\n",
       "      <th>Number of Open Accounts</th>\n",
       "      <th>Number of Credit Problems</th>\n",
       "      <th>Current Credit Balance</th>\n",
       "      <th>Ownership_val</th>\n",
       "      <th>Purpose_val</th>\n",
       "      <th>Job_val</th>\n",
       "    </tr>\n",
       "  </thead>\n",
       "  <tbody>\n",
       "    <tr>\n",
       "      <td>0</td>\n",
       "      <td>445412.0</td>\n",
       "      <td>709.000000</td>\n",
       "      <td>1.167493e+06</td>\n",
       "      <td>5214.74</td>\n",
       "      <td>17.2</td>\n",
       "      <td>6.0</td>\n",
       "      <td>1.0</td>\n",
       "      <td>228190.0</td>\n",
       "      <td>0</td>\n",
       "      <td>5</td>\n",
       "      <td>0</td>\n",
       "    </tr>\n",
       "    <tr>\n",
       "      <td>1</td>\n",
       "      <td>262328.0</td>\n",
       "      <td>1076.456089</td>\n",
       "      <td>1.378277e+06</td>\n",
       "      <td>33295.98</td>\n",
       "      <td>21.1</td>\n",
       "      <td>35.0</td>\n",
       "      <td>0.0</td>\n",
       "      <td>229976.0</td>\n",
       "      <td>0</td>\n",
       "      <td>3</td>\n",
       "      <td>1</td>\n",
       "    </tr>\n",
       "    <tr>\n",
       "      <td>2</td>\n",
       "      <td>99999999.0</td>\n",
       "      <td>741.000000</td>\n",
       "      <td>2.231892e+06</td>\n",
       "      <td>29200.53</td>\n",
       "      <td>14.9</td>\n",
       "      <td>18.0</td>\n",
       "      <td>1.0</td>\n",
       "      <td>297996.0</td>\n",
       "      <td>1</td>\n",
       "      <td>3</td>\n",
       "      <td>0</td>\n",
       "    </tr>\n",
       "    <tr>\n",
       "      <td>3</td>\n",
       "      <td>347666.0</td>\n",
       "      <td>721.000000</td>\n",
       "      <td>8.069490e+05</td>\n",
       "      <td>8741.90</td>\n",
       "      <td>12.0</td>\n",
       "      <td>9.0</td>\n",
       "      <td>0.0</td>\n",
       "      <td>256329.0</td>\n",
       "      <td>1</td>\n",
       "      <td>3</td>\n",
       "      <td>2</td>\n",
       "    </tr>\n",
       "    <tr>\n",
       "      <td>4</td>\n",
       "      <td>176220.0</td>\n",
       "      <td>1076.456089</td>\n",
       "      <td>1.378277e+06</td>\n",
       "      <td>20639.70</td>\n",
       "      <td>6.1</td>\n",
       "      <td>15.0</td>\n",
       "      <td>0.0</td>\n",
       "      <td>253460.0</td>\n",
       "      <td>2</td>\n",
       "      <td>3</td>\n",
       "      <td>3</td>\n",
       "    </tr>\n",
       "  </tbody>\n",
       "</table>\n",
       "</div>"
      ],
      "text/plain": [
       "   Current Loan Amount  Credit Score  Annual Income  Monthly Debt  \\\n",
       "0             445412.0    709.000000   1.167493e+06       5214.74   \n",
       "1             262328.0   1076.456089   1.378277e+06      33295.98   \n",
       "2           99999999.0    741.000000   2.231892e+06      29200.53   \n",
       "3             347666.0    721.000000   8.069490e+05       8741.90   \n",
       "4             176220.0   1076.456089   1.378277e+06      20639.70   \n",
       "\n",
       "   Years of Credit History  Number of Open Accounts  \\\n",
       "0                     17.2                      6.0   \n",
       "1                     21.1                     35.0   \n",
       "2                     14.9                     18.0   \n",
       "3                     12.0                      9.0   \n",
       "4                      6.1                     15.0   \n",
       "\n",
       "   Number of Credit Problems  Current Credit Balance  Ownership_val  \\\n",
       "0                        1.0                228190.0              0   \n",
       "1                        0.0                229976.0              0   \n",
       "2                        1.0                297996.0              1   \n",
       "3                        0.0                256329.0              1   \n",
       "4                        0.0                253460.0              2   \n",
       "\n",
       "   Purpose_val  Job_val  \n",
       "0            5        0  \n",
       "1            3        1  \n",
       "2            3        0  \n",
       "3            3        2  \n",
       "4            3        3  "
      ]
     },
     "execution_count": 133,
     "metadata": {},
     "output_type": "execute_result"
    }
   ],
   "source": [
    "nuovo_df.head()"
   ]
  },
  {
   "cell_type": "markdown",
   "metadata": {
    "colab_type": "text",
    "id": "O55WGzg_Rwv6"
   },
   "source": [
    "# **Normalizzazzione degli attributi**"
   ]
  },
  {
   "cell_type": "code",
   "execution_count": 134,
   "metadata": {
    "colab": {},
    "colab_type": "code",
    "id": "bB5WoY3_R3q0"
   },
   "outputs": [],
   "source": [
    "from sklearn.preprocessing import StandardScaler, MinMaxScaler #carico il modulo ScandardScaler da sklearn."
   ]
  },
  {
   "cell_type": "code",
   "execution_count": 135,
   "metadata": {
    "colab": {},
    "colab_type": "code",
    "id": "8lXQU2DhqhSP"
   },
   "outputs": [
    {
     "data": {
      "text/plain": [
       "StandardScaler(copy=True, with_mean=True, with_std=True)"
      ]
     },
     "execution_count": 135,
     "metadata": {},
     "output_type": "execute_result"
    }
   ],
   "source": [
    "scaler = StandardScaler()\n",
    "scaler.fit(nuovo_df.head().values)"
   ]
  },
  {
   "cell_type": "code",
   "execution_count": 136,
   "metadata": {},
   "outputs": [
    {
     "data": {
      "text/plain": [
       "array([[4.45412000e+05, 7.09000000e+02, 1.16749300e+06, 5.21474000e+03,\n",
       "        1.72000000e+01, 6.00000000e+00, 1.00000000e+00, 2.28190000e+05,\n",
       "        0.00000000e+00, 5.00000000e+00, 0.00000000e+00],\n",
       "       [2.62328000e+05, 1.07645609e+03, 1.37827656e+06, 3.32959800e+04,\n",
       "        2.11000000e+01, 3.50000000e+01, 0.00000000e+00, 2.29976000e+05,\n",
       "        0.00000000e+00, 3.00000000e+00, 1.00000000e+00],\n",
       "       [9.99999990e+07, 7.41000000e+02, 2.23189200e+06, 2.92005300e+04,\n",
       "        1.49000000e+01, 1.80000000e+01, 1.00000000e+00, 2.97996000e+05,\n",
       "        1.00000000e+00, 3.00000000e+00, 0.00000000e+00],\n",
       "       [3.47666000e+05, 7.21000000e+02, 8.06949000e+05, 8.74190000e+03,\n",
       "        1.20000000e+01, 9.00000000e+00, 0.00000000e+00, 2.56329000e+05,\n",
       "        1.00000000e+00, 3.00000000e+00, 2.00000000e+00],\n",
       "       [1.76220000e+05, 1.07645609e+03, 1.37827656e+06, 2.06397000e+04,\n",
       "        6.10000000e+00, 1.50000000e+01, 0.00000000e+00, 2.53460000e+05,\n",
       "        2.00000000e+00, 3.00000000e+00, 3.00000000e+00]])"
      ]
     },
     "execution_count": 136,
     "metadata": {},
     "output_type": "execute_result"
    }
   ],
   "source": [
    "nuovo_df.head().values"
   ]
  },
  {
   "cell_type": "code",
   "execution_count": 137,
   "metadata": {},
   "outputs": [
    {
     "data": {
      "text/plain": [
       "array([[-0.4965505 , -0.89978494, -0.48021315, -1.29072352,  0.58213371,\n",
       "        -1.04627908,  1.22474487, -0.99110526, -1.06904497,  2.        ,\n",
       "        -1.02899151],\n",
       "       [-0.50114172,  1.22260745, -0.03051061,  1.26106124,  1.35435189,\n",
       "         1.81618256, -0.81649658, -0.92030126, -1.06904497, -0.5       ,\n",
       "        -0.17149859],\n",
       "       [ 1.99999498, -0.7149559 ,  1.79066097,  0.8889015 ,  0.12672298,\n",
       "         0.1381878 ,  1.22474487,  1.77627635,  0.26726124, -0.5       ,\n",
       "        -1.02899151],\n",
       "       [-0.49900169, -0.83047405, -1.2494266 , -0.97020515, -0.44749054,\n",
       "        -0.75016236, -0.81649658,  0.12443425,  0.26726124, -0.5       ,\n",
       "         0.68599434],\n",
       "       [-0.50330107,  1.22260745, -0.03051061,  0.11096593, -1.61571805,\n",
       "        -0.15792892, -0.81649658,  0.01069592,  1.60356745, -0.5       ,\n",
       "         1.54348727]])"
      ]
     },
     "execution_count": 137,
     "metadata": {},
     "output_type": "execute_result"
    }
   ],
   "source": [
    "scaler.transform(nuovo_df.head().values)"
   ]
  },
  {
   "cell_type": "code",
   "execution_count": 138,
   "metadata": {},
   "outputs": [
    {
     "data": {
      "text/plain": [
       "array([[4.45412000e+05, 7.09000000e+02, 1.16749300e+06, 5.21474000e+03,\n",
       "        1.72000000e+01, 6.00000000e+00, 1.00000000e+00, 2.28190000e+05,\n",
       "        0.00000000e+00, 5.00000000e+00, 0.00000000e+00],\n",
       "       [2.62328000e+05, 1.07645609e+03, 1.37827656e+06, 3.32959800e+04,\n",
       "        2.11000000e+01, 3.50000000e+01, 0.00000000e+00, 2.29976000e+05,\n",
       "        0.00000000e+00, 3.00000000e+00, 1.00000000e+00],\n",
       "       [9.99999990e+07, 7.41000000e+02, 2.23189200e+06, 2.92005300e+04,\n",
       "        1.49000000e+01, 1.80000000e+01, 1.00000000e+00, 2.97996000e+05,\n",
       "        1.00000000e+00, 3.00000000e+00, 0.00000000e+00],\n",
       "       [3.47666000e+05, 7.21000000e+02, 8.06949000e+05, 8.74190000e+03,\n",
       "        1.20000000e+01, 9.00000000e+00, 0.00000000e+00, 2.56329000e+05,\n",
       "        1.00000000e+00, 3.00000000e+00, 2.00000000e+00],\n",
       "       [1.76220000e+05, 1.07645609e+03, 1.37827656e+06, 2.06397000e+04,\n",
       "        6.10000000e+00, 1.50000000e+01, 0.00000000e+00, 2.53460000e+05,\n",
       "        2.00000000e+00, 3.00000000e+00, 3.00000000e+00]])"
      ]
     },
     "execution_count": 138,
     "metadata": {},
     "output_type": "execute_result"
    }
   ],
   "source": [
    "scaler.inverse_transform(scaler.transform(nuovo_df.head().values))"
   ]
  },
  {
   "cell_type": "code",
   "execution_count": 139,
   "metadata": {},
   "outputs": [],
   "source": [
    "scaler = MinMaxScaler()\n",
    "X = scaler.fit_transform(nuovo_df.values)"
   ]
  },
  {
   "cell_type": "code",
   "execution_count": 140,
   "metadata": {},
   "outputs": [
    {
     "data": {
      "text/plain": [
       "array([[0.00434657, 0.01790614, 0.0065921 , 0.01196471, 0.20328849,\n",
       "        0.07894737, 0.06666667, 0.0069403 , 0.        , 0.35714286,\n",
       "        0.        ],\n",
       "       [0.00251553, 0.07096839, 0.00786587, 0.07639439, 0.26158445,\n",
       "        0.46052632, 0.        , 0.00699462, 0.        , 0.21428571,\n",
       "        0.1       ],\n",
       "       [1.        , 0.02252708, 0.01302426, 0.06699777, 0.16890882,\n",
       "        0.23684211, 0.06666667, 0.00906342, 0.5       , 0.21428571,\n",
       "        0.        ],\n",
       "       [0.003369  , 0.01963899, 0.00441333, 0.02005744, 0.12556054,\n",
       "        0.11842105, 0.        , 0.00779614, 0.5       , 0.21428571,\n",
       "        0.2       ],\n",
       "       [0.00165436, 0.07096839, 0.00786587, 0.04735578, 0.03736921,\n",
       "        0.19736842, 0.        , 0.00770888, 1.        , 0.21428571,\n",
       "        0.3       ]])"
      ]
     },
     "execution_count": 140,
     "metadata": {},
     "output_type": "execute_result"
    }
   ],
   "source": [
    "X[:5]"
   ]
  }
 ],
 "metadata": {
  "colab": {
   "collapsed_sections": [
    "16jZp1LDJ8g-",
    "4z4kM1zPMP-I",
    "vtD6LWqNScev",
    "O55WGzg_Rwv6"
   ],
   "name": "Untitled0.ipynb",
   "provenance": []
  },
  "kernelspec": {
   "display_name": "Python 3",
   "language": "python",
   "name": "python3"
  },
  "language_info": {
   "codemirror_mode": {
    "name": "ipython",
    "version": 3
   },
   "file_extension": ".py",
   "mimetype": "text/x-python",
   "name": "python",
   "nbconvert_exporter": "python",
   "pygments_lexer": "ipython3",
   "version": "3.7.6"
  }
 },
 "nbformat": 4,
 "nbformat_minor": 1
}
